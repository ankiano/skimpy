{
 "cells": [
  {
   "cell_type": "markdown",
   "metadata": {},
   "source": [
    "## 1. Imports and settings"
   ]
  },
  {
   "cell_type": "code",
   "execution_count": 1,
   "metadata": {
    "scrolled": true
   },
   "outputs": [],
   "source": [
    "# data analysis and wrangling\n",
    "import pandas as pd\n",
    "import numpy as np\n",
    "\n",
    "# visualization\n",
    "import matplotlib.pyplot as plt \n",
    "import seaborn as sns\n",
    "\n",
    "#ignore warnings\n",
    "import warnings\n",
    "warnings.filterwarnings('ignore')\n",
    "\n",
    "pd.set_option('display.max_columns', None) # else pandas show not all columns"
   ]
  },
  {
   "cell_type": "code",
   "execution_count": 2,
   "metadata": {},
   "outputs": [],
   "source": [
    "# https://github.com/ankiano/skimpy\n",
    "\n",
    "from skimpy import Preprocessing\n",
    "from skimpy import WoE\n",
    "# feature exploration\n",
    "from skimpy import plot_density\n",
    "# model metrics\n",
    "from skimpy import plot_model_summary\n",
    "from skimpy import predict_with_threshold\n",
    "# model benchmark\n",
    "from skimpy import model_benchmark\n",
    "\n",
    "\n",
    "# models\n",
    "from sklearn.linear_model import LogisticRegression\n",
    "from sklearn.svm import SVC, LinearSVC\n",
    "from sklearn.ensemble import RandomForestClassifier\n",
    "from sklearn.ensemble import GradientBoostingClassifier\n",
    "from sklearn.neighbors import KNeighborsClassifier\n",
    "from sklearn.naive_bayes import GaussianNB\n",
    "from sklearn.linear_model import Perceptron\n",
    "from sklearn.linear_model import SGDClassifier\n",
    "from sklearn.tree import DecisionTreeClassifier\n",
    "from lightgbm import LGBMClassifier"
   ]
  },
  {
   "cell_type": "code",
   "execution_count": 3,
   "metadata": {},
   "outputs": [],
   "source": [
    "pipeline = Preprocessing()\n",
    "woe = WoE()"
   ]
  },
  {
   "cell_type": "markdown",
   "metadata": {},
   "source": [
    "## 2. Load training dataset"
   ]
  },
  {
   "cell_type": "code",
   "execution_count": 4,
   "metadata": {},
   "outputs": [],
   "source": [
    "dataset = pd.read_csv('./data/train.csv')"
   ]
  },
  {
   "cell_type": "markdown",
   "metadata": {},
   "source": [
    "## 3. General data overview"
   ]
  },
  {
   "cell_type": "markdown",
   "metadata": {},
   "source": [
    "Some random example of row data"
   ]
  },
  {
   "cell_type": "code",
   "execution_count": 5,
   "metadata": {},
   "outputs": [
    {
     "data": {
      "text/html": [
       "<div>\n",
       "<style scoped>\n",
       "    .dataframe tbody tr th:only-of-type {\n",
       "        vertical-align: middle;\n",
       "    }\n",
       "\n",
       "    .dataframe tbody tr th {\n",
       "        vertical-align: top;\n",
       "    }\n",
       "\n",
       "    .dataframe thead th {\n",
       "        text-align: right;\n",
       "    }\n",
       "</style>\n",
       "<table border=\"1\" class=\"dataframe\">\n",
       "  <thead>\n",
       "    <tr style=\"text-align: right;\">\n",
       "      <th></th>\n",
       "      <th>PassengerId</th>\n",
       "      <th>Survived</th>\n",
       "      <th>Pclass</th>\n",
       "      <th>Name</th>\n",
       "      <th>Sex</th>\n",
       "      <th>Age</th>\n",
       "      <th>SibSp</th>\n",
       "      <th>Parch</th>\n",
       "      <th>Ticket</th>\n",
       "      <th>Fare</th>\n",
       "      <th>Cabin</th>\n",
       "      <th>Embarked</th>\n",
       "    </tr>\n",
       "  </thead>\n",
       "  <tbody>\n",
       "    <tr>\n",
       "      <th>800</th>\n",
       "      <td>801</td>\n",
       "      <td>0</td>\n",
       "      <td>2</td>\n",
       "      <td>Ponesell, Mr. Martin</td>\n",
       "      <td>male</td>\n",
       "      <td>34.0</td>\n",
       "      <td>0</td>\n",
       "      <td>0</td>\n",
       "      <td>250647</td>\n",
       "      <td>13.0000</td>\n",
       "      <td>NaN</td>\n",
       "      <td>S</td>\n",
       "    </tr>\n",
       "    <tr>\n",
       "      <th>197</th>\n",
       "      <td>198</td>\n",
       "      <td>0</td>\n",
       "      <td>3</td>\n",
       "      <td>Olsen, Mr. Karl Siegwart Andreas</td>\n",
       "      <td>male</td>\n",
       "      <td>42.0</td>\n",
       "      <td>0</td>\n",
       "      <td>1</td>\n",
       "      <td>4579</td>\n",
       "      <td>8.4042</td>\n",
       "      <td>NaN</td>\n",
       "      <td>S</td>\n",
       "    </tr>\n",
       "    <tr>\n",
       "      <th>868</th>\n",
       "      <td>869</td>\n",
       "      <td>0</td>\n",
       "      <td>3</td>\n",
       "      <td>van Melkebeke, Mr. Philemon</td>\n",
       "      <td>male</td>\n",
       "      <td>NaN</td>\n",
       "      <td>0</td>\n",
       "      <td>0</td>\n",
       "      <td>345777</td>\n",
       "      <td>9.5000</td>\n",
       "      <td>NaN</td>\n",
       "      <td>S</td>\n",
       "    </tr>\n",
       "  </tbody>\n",
       "</table>\n",
       "</div>"
      ],
      "text/plain": [
       "     PassengerId  Survived  Pclass                              Name   Sex  \\\n",
       "800          801         0       2              Ponesell, Mr. Martin  male   \n",
       "197          198         0       3  Olsen, Mr. Karl Siegwart Andreas  male   \n",
       "868          869         0       3       van Melkebeke, Mr. Philemon  male   \n",
       "\n",
       "      Age  SibSp  Parch  Ticket     Fare Cabin Embarked  \n",
       "800  34.0      0      0  250647  13.0000   NaN        S  \n",
       "197  42.0      0      1    4579   8.4042   NaN        S  \n",
       "868   NaN      0      0  345777   9.5000   NaN        S  "
      ]
     },
     "execution_count": 5,
     "metadata": {},
     "output_type": "execute_result"
    }
   ],
   "source": [
    "dataset.sample(3)"
   ]
  },
  {
   "cell_type": "markdown",
   "metadata": {},
   "source": [
    "Missing value overview"
   ]
  },
  {
   "cell_type": "code",
   "execution_count": 6,
   "metadata": {},
   "outputs": [
    {
     "data": {
      "text/plain": [
       "Age         177\n",
       "Cabin       687\n",
       "Embarked      2\n",
       "dtype: int64"
      ]
     },
     "execution_count": 6,
     "metadata": {},
     "output_type": "execute_result"
    }
   ],
   "source": [
    "dataset.isnull().sum().compress(lambda x: x>0)"
   ]
  },
  {
   "cell_type": "markdown",
   "metadata": {},
   "source": [
    "## 4. Feature engeneering"
   ]
  },
  {
   "cell_type": "markdown",
   "metadata": {},
   "source": [
    "### 4.1. Target (Survived)"
   ]
  },
  {
   "cell_type": "code",
   "execution_count": 7,
   "metadata": {},
   "outputs": [],
   "source": [
    "y_true = dataset['Survived']"
   ]
  },
  {
   "cell_type": "markdown",
   "metadata": {},
   "source": [
    "Sample is more less balanced by target variable"
   ]
  },
  {
   "cell_type": "markdown",
   "metadata": {},
   "source": [
    "### 4.2. Passengerid"
   ]
  },
  {
   "cell_type": "markdown",
   "metadata": {},
   "source": [
    "It seems passengerid is useless"
   ]
  },
  {
   "cell_type": "markdown",
   "metadata": {},
   "source": [
    "### 4.3. Ticket"
   ]
  },
  {
   "cell_type": "markdown",
   "metadata": {},
   "source": [
    "It seems ticket also is useless"
   ]
  },
  {
   "cell_type": "markdown",
   "metadata": {},
   "source": [
    "? Clustering tickets"
   ]
  },
  {
   "cell_type": "markdown",
   "metadata": {},
   "source": [
    "### 4.4. Cabin"
   ]
  },
  {
   "cell_type": "markdown",
   "metadata": {},
   "source": [
    "Variable with more then 50% of miss values can be excluded from analysis.\n",
    "But we cat extract some information about section"
   ]
  },
  {
   "cell_type": "markdown",
   "metadata": {},
   "source": [
    "The meaning is only filled was 'cabin' or not. Let's create new variable."
   ]
  },
  {
   "cell_type": "code",
   "execution_count": 8,
   "metadata": {},
   "outputs": [
    {
     "data": {
      "text/html": [
       "<div>\n",
       "<style scoped>\n",
       "    .dataframe tbody tr th:only-of-type {\n",
       "        vertical-align: middle;\n",
       "    }\n",
       "\n",
       "    .dataframe tbody tr th {\n",
       "        vertical-align: top;\n",
       "    }\n",
       "\n",
       "    .dataframe thead th {\n",
       "        text-align: right;\n",
       "    }\n",
       "</style>\n",
       "<table border=\"1\" class=\"dataframe\">\n",
       "  <thead>\n",
       "    <tr style=\"text-align: right;\">\n",
       "      <th>Survived</th>\n",
       "      <th>Ā</th>\n",
       "      <th>А</th>\n",
       "      <th>P(Hi)</th>\n",
       "      <th>P(Hi|Ā)</th>\n",
       "      <th>P(Hi|A)</th>\n",
       "      <th>posterior-odds</th>\n",
       "      <th>weight-of-evidence</th>\n",
       "      <th>information-value</th>\n",
       "      <th>conclusion</th>\n",
       "    </tr>\n",
       "    <tr>\n",
       "      <th>Cabin</th>\n",
       "      <th></th>\n",
       "      <th></th>\n",
       "      <th></th>\n",
       "      <th></th>\n",
       "      <th></th>\n",
       "      <th></th>\n",
       "      <th></th>\n",
       "      <th></th>\n",
       "      <th></th>\n",
       "    </tr>\n",
       "  </thead>\n",
       "  <tbody>\n",
       "    <tr>\n",
       "      <th>1</th>\n",
       "      <td>481.0</td>\n",
       "      <td>206.0</td>\n",
       "      <td>0.771044</td>\n",
       "      <td>0.876138</td>\n",
       "      <td>0.602339</td>\n",
       "      <td>0.687493</td>\n",
       "      <td>-0.374703</td>\n",
       "      <td>0.102594</td>\n",
       "      <td>medium</td>\n",
       "    </tr>\n",
       "    <tr>\n",
       "      <th>0</th>\n",
       "      <td>68.0</td>\n",
       "      <td>136.0</td>\n",
       "      <td>0.228956</td>\n",
       "      <td>0.123862</td>\n",
       "      <td>0.397661</td>\n",
       "      <td>3.21053</td>\n",
       "      <td>1.16643</td>\n",
       "      <td>0.319369</td>\n",
       "      <td>strong</td>\n",
       "    </tr>\n",
       "    <tr>\n",
       "      <th>total</th>\n",
       "      <td>549.0</td>\n",
       "      <td>342.0</td>\n",
       "      <td>1.000000</td>\n",
       "      <td>1.000000</td>\n",
       "      <td>1.000000</td>\n",
       "      <td></td>\n",
       "      <td></td>\n",
       "      <td>0.421963</td>\n",
       "      <td>strong</td>\n",
       "    </tr>\n",
       "  </tbody>\n",
       "</table>\n",
       "</div>"
      ],
      "text/plain": [
       "Survived      Ā      А     P(Hi)   P(Hi|Ā)   P(Hi|A) posterior-odds  \\\n",
       "Cabin                                                                 \n",
       "1         481.0  206.0  0.771044  0.876138  0.602339       0.687493   \n",
       "0          68.0  136.0  0.228956  0.123862  0.397661        3.21053   \n",
       "total     549.0  342.0  1.000000  1.000000  1.000000                  \n",
       "\n",
       "Survived weight-of-evidence  information-value conclusion  \n",
       "Cabin                                                      \n",
       "1                 -0.374703           0.102594     medium  \n",
       "0                   1.16643           0.319369     strong  \n",
       "total                                 0.421963     strong  "
      ]
     },
     "execution_count": 8,
     "metadata": {},
     "output_type": "execute_result"
    }
   ],
   "source": [
    "transform = lambda z: z.apply(lambda x: 1 if pd.isnull(x) else 0)\n",
    "\n",
    "feature = transform(dataset['Cabin'])\n",
    "\n",
    "woe.calculate(H = feature, A = y_true, woe_sorted=True)"
   ]
  },
  {
   "cell_type": "code",
   "execution_count": 9,
   "metadata": {},
   "outputs": [],
   "source": [
    "pipeline.add(step=Preprocessing.Step(\n",
    "    input_var='Cabin',\n",
    "    transformations=[\n",
    "        transform,\n",
    "        lambda x, w=woe.dict: x.astype('str').map(w), # replace by woe value\n",
    "    ],\n",
    "    output_var='cabin_is_empty_woe',\n",
    "    info=woe.iv\n",
    "))"
   ]
  },
  {
   "cell_type": "markdown",
   "metadata": {},
   "source": [
    "### 4.5. Embarked"
   ]
  },
  {
   "cell_type": "code",
   "execution_count": 10,
   "metadata": {},
   "outputs": [
    {
     "data": {
      "text/html": [
       "<div>\n",
       "<style scoped>\n",
       "    .dataframe tbody tr th:only-of-type {\n",
       "        vertical-align: middle;\n",
       "    }\n",
       "\n",
       "    .dataframe tbody tr th {\n",
       "        vertical-align: top;\n",
       "    }\n",
       "\n",
       "    .dataframe thead th {\n",
       "        text-align: right;\n",
       "    }\n",
       "</style>\n",
       "<table border=\"1\" class=\"dataframe\">\n",
       "  <thead>\n",
       "    <tr style=\"text-align: right;\">\n",
       "      <th>Survived</th>\n",
       "      <th>Ā</th>\n",
       "      <th>А</th>\n",
       "      <th>P(Hi)</th>\n",
       "      <th>P(Hi|Ā)</th>\n",
       "      <th>P(Hi|A)</th>\n",
       "      <th>posterior-odds</th>\n",
       "      <th>weight-of-evidence</th>\n",
       "      <th>information-value</th>\n",
       "      <th>conclusion</th>\n",
       "    </tr>\n",
       "    <tr>\n",
       "      <th>Embarked</th>\n",
       "      <th></th>\n",
       "      <th></th>\n",
       "      <th></th>\n",
       "      <th></th>\n",
       "      <th></th>\n",
       "      <th></th>\n",
       "      <th></th>\n",
       "      <th></th>\n",
       "      <th></th>\n",
       "    </tr>\n",
       "  </thead>\n",
       "  <tbody>\n",
       "    <tr>\n",
       "      <th>S</th>\n",
       "      <td>427.0</td>\n",
       "      <td>219.0</td>\n",
       "      <td>0.725028</td>\n",
       "      <td>0.777778</td>\n",
       "      <td>0.640351</td>\n",
       "      <td>0.823308</td>\n",
       "      <td>-0.194425</td>\n",
       "      <td>0.026719</td>\n",
       "      <td>weak</td>\n",
       "    </tr>\n",
       "    <tr>\n",
       "      <th>Q</th>\n",
       "      <td>47.0</td>\n",
       "      <td>30.0</td>\n",
       "      <td>0.086420</td>\n",
       "      <td>0.085610</td>\n",
       "      <td>0.087719</td>\n",
       "      <td>1.02464</td>\n",
       "      <td>0.0243375</td>\n",
       "      <td>0.000051</td>\n",
       "      <td>useless</td>\n",
       "    </tr>\n",
       "    <tr>\n",
       "      <th>C</th>\n",
       "      <td>75.0</td>\n",
       "      <td>93.0</td>\n",
       "      <td>0.188552</td>\n",
       "      <td>0.136612</td>\n",
       "      <td>0.271930</td>\n",
       "      <td>1.99053</td>\n",
       "      <td>0.688399</td>\n",
       "      <td>0.093153</td>\n",
       "      <td>weak</td>\n",
       "    </tr>\n",
       "    <tr>\n",
       "      <th>total</th>\n",
       "      <td>549.0</td>\n",
       "      <td>342.0</td>\n",
       "      <td>1.000000</td>\n",
       "      <td>1.000000</td>\n",
       "      <td>1.000000</td>\n",
       "      <td></td>\n",
       "      <td></td>\n",
       "      <td>0.119923</td>\n",
       "      <td>medium</td>\n",
       "    </tr>\n",
       "  </tbody>\n",
       "</table>\n",
       "</div>"
      ],
      "text/plain": [
       "Survived      Ā      А     P(Hi)   P(Hi|Ā)   P(Hi|A) posterior-odds  \\\n",
       "Embarked                                                              \n",
       "S         427.0  219.0  0.725028  0.777778  0.640351       0.823308   \n",
       "Q          47.0   30.0  0.086420  0.085610  0.087719        1.02464   \n",
       "C          75.0   93.0  0.188552  0.136612  0.271930        1.99053   \n",
       "total     549.0  342.0  1.000000  1.000000  1.000000                  \n",
       "\n",
       "Survived weight-of-evidence  information-value conclusion  \n",
       "Embarked                                                   \n",
       "S                 -0.194425           0.026719       weak  \n",
       "Q                 0.0243375           0.000051    useless  \n",
       "C                  0.688399           0.093153       weak  \n",
       "total                                 0.119923     medium  "
      ]
     },
     "execution_count": 10,
     "metadata": {},
     "output_type": "execute_result"
    }
   ],
   "source": [
    "transform = lambda x: x.fillna('S') # filling missing values\n",
    "\n",
    "feature = transform(dataset['Embarked'])\n",
    "\n",
    "woe.calculate(H = feature, A = y_true, woe_sorted=True)"
   ]
  },
  {
   "cell_type": "code",
   "execution_count": 11,
   "metadata": {},
   "outputs": [
    {
     "data": {
      "image/png": "[encoded data removed]",
      "text/plain": [
       "<Figure size 864x216 with 3 Axes>"
      ]
     },
     "metadata": {
      "needs_background": "light"
     },
     "output_type": "display_data"
    }
   ],
   "source": [
    "woe.plot()"
   ]
  },
  {
   "cell_type": "code",
   "execution_count": 12,
   "metadata": {},
   "outputs": [],
   "source": [
    "pipeline.add(step=Preprocessing.Step(\n",
    "    input_var='Embarked',\n",
    "    transformations=[\n",
    "        transform,\n",
    "        lambda x, w=woe.dict: x.astype('str').map(w), # replace by woe value\n",
    "    ],\n",
    "    output_var='embarked_woe',\n",
    "    info=woe.iv\n",
    "))"
   ]
  },
  {
   "cell_type": "markdown",
   "metadata": {},
   "source": [
    "### 4.6. Sex"
   ]
  },
  {
   "cell_type": "code",
   "execution_count": 13,
   "metadata": {},
   "outputs": [
    {
     "data": {
      "text/html": [
       "<div>\n",
       "<style scoped>\n",
       "    .dataframe tbody tr th:only-of-type {\n",
       "        vertical-align: middle;\n",
       "    }\n",
       "\n",
       "    .dataframe tbody tr th {\n",
       "        vertical-align: top;\n",
       "    }\n",
       "\n",
       "    .dataframe thead th {\n",
       "        text-align: right;\n",
       "    }\n",
       "</style>\n",
       "<table border=\"1\" class=\"dataframe\">\n",
       "  <thead>\n",
       "    <tr style=\"text-align: right;\">\n",
       "      <th>Survived</th>\n",
       "      <th>Ā</th>\n",
       "      <th>А</th>\n",
       "      <th>P(Hi)</th>\n",
       "      <th>P(Hi|Ā)</th>\n",
       "      <th>P(Hi|A)</th>\n",
       "      <th>posterior-odds</th>\n",
       "      <th>weight-of-evidence</th>\n",
       "      <th>information-value</th>\n",
       "      <th>conclusion</th>\n",
       "    </tr>\n",
       "    <tr>\n",
       "      <th>Sex</th>\n",
       "      <th></th>\n",
       "      <th></th>\n",
       "      <th></th>\n",
       "      <th></th>\n",
       "      <th></th>\n",
       "      <th></th>\n",
       "      <th></th>\n",
       "      <th></th>\n",
       "      <th></th>\n",
       "    </tr>\n",
       "  </thead>\n",
       "  <tbody>\n",
       "    <tr>\n",
       "      <th>male</th>\n",
       "      <td>468.0</td>\n",
       "      <td>109.0</td>\n",
       "      <td>0.647587</td>\n",
       "      <td>0.852459</td>\n",
       "      <td>0.318713</td>\n",
       "      <td>0.373875</td>\n",
       "      <td>-0.983833</td>\n",
       "      <td>0.525116</td>\n",
       "      <td>excellent</td>\n",
       "    </tr>\n",
       "    <tr>\n",
       "      <th>female</th>\n",
       "      <td>81.0</td>\n",
       "      <td>233.0</td>\n",
       "      <td>0.352413</td>\n",
       "      <td>0.147541</td>\n",
       "      <td>0.681287</td>\n",
       "      <td>4.61761</td>\n",
       "      <td>1.52988</td>\n",
       "      <td>0.816565</td>\n",
       "      <td>excellent</td>\n",
       "    </tr>\n",
       "    <tr>\n",
       "      <th>total</th>\n",
       "      <td>549.0</td>\n",
       "      <td>342.0</td>\n",
       "      <td>1.000000</td>\n",
       "      <td>1.000000</td>\n",
       "      <td>1.000000</td>\n",
       "      <td></td>\n",
       "      <td></td>\n",
       "      <td>1.341681</td>\n",
       "      <td>excellent</td>\n",
       "    </tr>\n",
       "  </tbody>\n",
       "</table>\n",
       "</div>"
      ],
      "text/plain": [
       "Survived      Ā      А     P(Hi)   P(Hi|Ā)   P(Hi|A) posterior-odds  \\\n",
       "Sex                                                                   \n",
       "male      468.0  109.0  0.647587  0.852459  0.318713       0.373875   \n",
       "female     81.0  233.0  0.352413  0.147541  0.681287        4.61761   \n",
       "total     549.0  342.0  1.000000  1.000000  1.000000                  \n",
       "\n",
       "Survived weight-of-evidence  information-value conclusion  \n",
       "Sex                                                        \n",
       "male              -0.983833           0.525116  excellent  \n",
       "female              1.52988           0.816565  excellent  \n",
       "total                                 1.341681  excellent  "
      ]
     },
     "execution_count": 13,
     "metadata": {},
     "output_type": "execute_result"
    }
   ],
   "source": [
    "feature = dataset['Sex']\n",
    "woe.calculate(H = feature, A = y_true, woe_sorted=True)"
   ]
  },
  {
   "cell_type": "code",
   "execution_count": 14,
   "metadata": {},
   "outputs": [],
   "source": [
    "pipeline.add(step=Preprocessing.Step(\n",
    "    input_var='Sex',\n",
    "    transformations=[\n",
    "        lambda x, w=woe.dict: x.astype('str').map(w), # replace by woe value\n",
    "    ],\n",
    "    output_var='sex_woe',\n",
    "    info=woe.iv\n",
    "))"
   ]
  },
  {
   "cell_type": "markdown",
   "metadata": {},
   "source": [
    "### 4.7. Pclass"
   ]
  },
  {
   "cell_type": "code",
   "execution_count": 15,
   "metadata": {},
   "outputs": [
    {
     "data": {
      "text/html": [
       "<div>\n",
       "<style scoped>\n",
       "    .dataframe tbody tr th:only-of-type {\n",
       "        vertical-align: middle;\n",
       "    }\n",
       "\n",
       "    .dataframe tbody tr th {\n",
       "        vertical-align: top;\n",
       "    }\n",
       "\n",
       "    .dataframe thead th {\n",
       "        text-align: right;\n",
       "    }\n",
       "</style>\n",
       "<table border=\"1\" class=\"dataframe\">\n",
       "  <thead>\n",
       "    <tr style=\"text-align: right;\">\n",
       "      <th>Survived</th>\n",
       "      <th>Ā</th>\n",
       "      <th>А</th>\n",
       "      <th>P(Hi)</th>\n",
       "      <th>P(Hi|Ā)</th>\n",
       "      <th>P(Hi|A)</th>\n",
       "      <th>posterior-odds</th>\n",
       "      <th>weight-of-evidence</th>\n",
       "      <th>information-value</th>\n",
       "      <th>conclusion</th>\n",
       "    </tr>\n",
       "    <tr>\n",
       "      <th>Pclass</th>\n",
       "      <th></th>\n",
       "      <th></th>\n",
       "      <th></th>\n",
       "      <th></th>\n",
       "      <th></th>\n",
       "      <th></th>\n",
       "      <th></th>\n",
       "      <th></th>\n",
       "      <th></th>\n",
       "    </tr>\n",
       "  </thead>\n",
       "  <tbody>\n",
       "    <tr>\n",
       "      <th>3</th>\n",
       "      <td>372.0</td>\n",
       "      <td>119.0</td>\n",
       "      <td>0.551066</td>\n",
       "      <td>0.677596</td>\n",
       "      <td>0.347953</td>\n",
       "      <td>0.513512</td>\n",
       "      <td>-0.666483</td>\n",
       "      <td>0.219701</td>\n",
       "      <td>medium</td>\n",
       "    </tr>\n",
       "    <tr>\n",
       "      <th>2</th>\n",
       "      <td>97.0</td>\n",
       "      <td>87.0</td>\n",
       "      <td>0.206510</td>\n",
       "      <td>0.176685</td>\n",
       "      <td>0.254386</td>\n",
       "      <td>1.43977</td>\n",
       "      <td>0.364485</td>\n",
       "      <td>0.028321</td>\n",
       "      <td>weak</td>\n",
       "    </tr>\n",
       "    <tr>\n",
       "      <th>1</th>\n",
       "      <td>80.0</td>\n",
       "      <td>136.0</td>\n",
       "      <td>0.242424</td>\n",
       "      <td>0.145719</td>\n",
       "      <td>0.397661</td>\n",
       "      <td>2.72895</td>\n",
       "      <td>1.00392</td>\n",
       "      <td>0.252928</td>\n",
       "      <td>medium</td>\n",
       "    </tr>\n",
       "    <tr>\n",
       "      <th>total</th>\n",
       "      <td>549.0</td>\n",
       "      <td>342.0</td>\n",
       "      <td>1.000000</td>\n",
       "      <td>1.000000</td>\n",
       "      <td>1.000000</td>\n",
       "      <td></td>\n",
       "      <td></td>\n",
       "      <td>0.500950</td>\n",
       "      <td>excellent</td>\n",
       "    </tr>\n",
       "  </tbody>\n",
       "</table>\n",
       "</div>"
      ],
      "text/plain": [
       "Survived      Ā      А     P(Hi)   P(Hi|Ā)   P(Hi|A) posterior-odds  \\\n",
       "Pclass                                                                \n",
       "3         372.0  119.0  0.551066  0.677596  0.347953       0.513512   \n",
       "2          97.0   87.0  0.206510  0.176685  0.254386        1.43977   \n",
       "1          80.0  136.0  0.242424  0.145719  0.397661        2.72895   \n",
       "total     549.0  342.0  1.000000  1.000000  1.000000                  \n",
       "\n",
       "Survived weight-of-evidence  information-value conclusion  \n",
       "Pclass                                                     \n",
       "3                 -0.666483           0.219701     medium  \n",
       "2                  0.364485           0.028321       weak  \n",
       "1                   1.00392           0.252928     medium  \n",
       "total                                 0.500950  excellent  "
      ]
     },
     "execution_count": 15,
     "metadata": {},
     "output_type": "execute_result"
    }
   ],
   "source": [
    "feature = dataset['Pclass']\n",
    "woe.calculate(H = feature, A = y_true, woe_sorted=True)"
   ]
  },
  {
   "cell_type": "code",
   "execution_count": 16,
   "metadata": {},
   "outputs": [],
   "source": [
    "pipeline.add(step=Preprocessing.Step(\n",
    "    input_var='Pclass',\n",
    "    transformations=[\n",
    "        lambda x, w=woe.dict: x.astype('str').map(w), # replace by woe value\n",
    "    ],\n",
    "    output_var='pclass_woe',\n",
    "    info=woe.iv\n",
    "))"
   ]
  },
  {
   "cell_type": "markdown",
   "metadata": {},
   "source": [
    "### 4.8. Name"
   ]
  },
  {
   "cell_type": "markdown",
   "metadata": {},
   "source": [
    "We need to extract title from name"
   ]
  },
  {
   "cell_type": "code",
   "execution_count": 17,
   "metadata": {},
   "outputs": [
    {
     "data": {
      "text/html": [
       "<div>\n",
       "<style scoped>\n",
       "    .dataframe tbody tr th:only-of-type {\n",
       "        vertical-align: middle;\n",
       "    }\n",
       "\n",
       "    .dataframe tbody tr th {\n",
       "        vertical-align: top;\n",
       "    }\n",
       "\n",
       "    .dataframe thead th {\n",
       "        text-align: right;\n",
       "    }\n",
       "</style>\n",
       "<table border=\"1\" class=\"dataframe\">\n",
       "  <thead>\n",
       "    <tr style=\"text-align: right;\">\n",
       "      <th>Survived</th>\n",
       "      <th>Ā</th>\n",
       "      <th>А</th>\n",
       "      <th>P(Hi)</th>\n",
       "      <th>P(Hi|Ā)</th>\n",
       "      <th>P(Hi|A)</th>\n",
       "      <th>posterior-odds</th>\n",
       "      <th>weight-of-evidence</th>\n",
       "      <th>information-value</th>\n",
       "      <th>conclusion</th>\n",
       "    </tr>\n",
       "    <tr>\n",
       "      <th>Name</th>\n",
       "      <th></th>\n",
       "      <th></th>\n",
       "      <th></th>\n",
       "      <th></th>\n",
       "      <th></th>\n",
       "      <th></th>\n",
       "      <th></th>\n",
       "      <th></th>\n",
       "      <th></th>\n",
       "    </tr>\n",
       "  </thead>\n",
       "  <tbody>\n",
       "    <tr>\n",
       "      <th>Mr</th>\n",
       "      <td>436.0</td>\n",
       "      <td>81.0</td>\n",
       "      <td>0.580247</td>\n",
       "      <td>0.794171</td>\n",
       "      <td>0.236842</td>\n",
       "      <td>0.298225</td>\n",
       "      <td>-1.20991</td>\n",
       "      <td>0.674315</td>\n",
       "      <td>excellent</td>\n",
       "    </tr>\n",
       "    <tr>\n",
       "      <th>Capt</th>\n",
       "      <td>1.0</td>\n",
       "      <td>0.0</td>\n",
       "      <td>0.001122</td>\n",
       "      <td>0.001821</td>\n",
       "      <td>0.000000</td>\n",
       "      <td>0</td>\n",
       "      <td>0</td>\n",
       "      <td>-0.000000</td>\n",
       "      <td>useless</td>\n",
       "    </tr>\n",
       "    <tr>\n",
       "      <th>Ms</th>\n",
       "      <td>0.0</td>\n",
       "      <td>1.0</td>\n",
       "      <td>0.001122</td>\n",
       "      <td>0.000000</td>\n",
       "      <td>0.002924</td>\n",
       "      <td>inf</td>\n",
       "      <td>0</td>\n",
       "      <td>0.000000</td>\n",
       "      <td>useless</td>\n",
       "    </tr>\n",
       "    <tr>\n",
       "      <th>Mme</th>\n",
       "      <td>0.0</td>\n",
       "      <td>1.0</td>\n",
       "      <td>0.001122</td>\n",
       "      <td>0.000000</td>\n",
       "      <td>0.002924</td>\n",
       "      <td>inf</td>\n",
       "      <td>0</td>\n",
       "      <td>0.000000</td>\n",
       "      <td>useless</td>\n",
       "    </tr>\n",
       "    <tr>\n",
       "      <th>Mlle</th>\n",
       "      <td>0.0</td>\n",
       "      <td>2.0</td>\n",
       "      <td>0.002245</td>\n",
       "      <td>0.000000</td>\n",
       "      <td>0.005848</td>\n",
       "      <td>inf</td>\n",
       "      <td>0</td>\n",
       "      <td>0.000000</td>\n",
       "      <td>useless</td>\n",
       "    </tr>\n",
       "    <tr>\n",
       "      <th>Rev</th>\n",
       "      <td>6.0</td>\n",
       "      <td>0.0</td>\n",
       "      <td>0.006734</td>\n",
       "      <td>0.010929</td>\n",
       "      <td>0.000000</td>\n",
       "      <td>0</td>\n",
       "      <td>0</td>\n",
       "      <td>-0.000000</td>\n",
       "      <td>useless</td>\n",
       "    </tr>\n",
       "    <tr>\n",
       "      <th>Sir</th>\n",
       "      <td>0.0</td>\n",
       "      <td>1.0</td>\n",
       "      <td>0.001122</td>\n",
       "      <td>0.000000</td>\n",
       "      <td>0.002924</td>\n",
       "      <td>inf</td>\n",
       "      <td>0</td>\n",
       "      <td>0.000000</td>\n",
       "      <td>useless</td>\n",
       "    </tr>\n",
       "    <tr>\n",
       "      <th>Jonkheer</th>\n",
       "      <td>1.0</td>\n",
       "      <td>0.0</td>\n",
       "      <td>0.001122</td>\n",
       "      <td>0.001821</td>\n",
       "      <td>0.000000</td>\n",
       "      <td>0</td>\n",
       "      <td>0</td>\n",
       "      <td>-0.000000</td>\n",
       "      <td>useless</td>\n",
       "    </tr>\n",
       "    <tr>\n",
       "      <th>Don</th>\n",
       "      <td>1.0</td>\n",
       "      <td>0.0</td>\n",
       "      <td>0.001122</td>\n",
       "      <td>0.001821</td>\n",
       "      <td>0.000000</td>\n",
       "      <td>0</td>\n",
       "      <td>0</td>\n",
       "      <td>-0.000000</td>\n",
       "      <td>useless</td>\n",
       "    </tr>\n",
       "    <tr>\n",
       "      <th>Countess</th>\n",
       "      <td>0.0</td>\n",
       "      <td>1.0</td>\n",
       "      <td>0.001122</td>\n",
       "      <td>0.000000</td>\n",
       "      <td>0.002924</td>\n",
       "      <td>inf</td>\n",
       "      <td>0</td>\n",
       "      <td>0.000000</td>\n",
       "      <td>useless</td>\n",
       "    </tr>\n",
       "    <tr>\n",
       "      <th>Lady</th>\n",
       "      <td>0.0</td>\n",
       "      <td>1.0</td>\n",
       "      <td>0.001122</td>\n",
       "      <td>0.000000</td>\n",
       "      <td>0.002924</td>\n",
       "      <td>inf</td>\n",
       "      <td>0</td>\n",
       "      <td>0.000000</td>\n",
       "      <td>useless</td>\n",
       "    </tr>\n",
       "    <tr>\n",
       "      <th>Dr</th>\n",
       "      <td>4.0</td>\n",
       "      <td>3.0</td>\n",
       "      <td>0.007856</td>\n",
       "      <td>0.007286</td>\n",
       "      <td>0.008772</td>\n",
       "      <td>1.20395</td>\n",
       "      <td>0.185606</td>\n",
       "      <td>0.000276</td>\n",
       "      <td>useless</td>\n",
       "    </tr>\n",
       "    <tr>\n",
       "      <th>Major</th>\n",
       "      <td>1.0</td>\n",
       "      <td>1.0</td>\n",
       "      <td>0.002245</td>\n",
       "      <td>0.001821</td>\n",
       "      <td>0.002924</td>\n",
       "      <td>1.60526</td>\n",
       "      <td>0.473288</td>\n",
       "      <td>0.000522</td>\n",
       "      <td>useless</td>\n",
       "    </tr>\n",
       "    <tr>\n",
       "      <th>Col</th>\n",
       "      <td>1.0</td>\n",
       "      <td>1.0</td>\n",
       "      <td>0.002245</td>\n",
       "      <td>0.001821</td>\n",
       "      <td>0.002924</td>\n",
       "      <td>1.60526</td>\n",
       "      <td>0.473288</td>\n",
       "      <td>0.000522</td>\n",
       "      <td>useless</td>\n",
       "    </tr>\n",
       "    <tr>\n",
       "      <th>Master</th>\n",
       "      <td>17.0</td>\n",
       "      <td>23.0</td>\n",
       "      <td>0.044893</td>\n",
       "      <td>0.030965</td>\n",
       "      <td>0.067251</td>\n",
       "      <td>2.17183</td>\n",
       "      <td>0.775569</td>\n",
       "      <td>0.028142</td>\n",
       "      <td>weak</td>\n",
       "    </tr>\n",
       "    <tr>\n",
       "      <th>Miss</th>\n",
       "      <td>55.0</td>\n",
       "      <td>127.0</td>\n",
       "      <td>0.204265</td>\n",
       "      <td>0.100182</td>\n",
       "      <td>0.371345</td>\n",
       "      <td>3.7067</td>\n",
       "      <td>1.31014</td>\n",
       "      <td>0.355262</td>\n",
       "      <td>strong</td>\n",
       "    </tr>\n",
       "    <tr>\n",
       "      <th>Mrs</th>\n",
       "      <td>26.0</td>\n",
       "      <td>99.0</td>\n",
       "      <td>0.140292</td>\n",
       "      <td>0.047359</td>\n",
       "      <td>0.289474</td>\n",
       "      <td>6.11235</td>\n",
       "      <td>1.81031</td>\n",
       "      <td>0.438303</td>\n",
       "      <td>strong</td>\n",
       "    </tr>\n",
       "    <tr>\n",
       "      <th>total</th>\n",
       "      <td>549.0</td>\n",
       "      <td>342.0</td>\n",
       "      <td>1.000000</td>\n",
       "      <td>1.000000</td>\n",
       "      <td>1.000000</td>\n",
       "      <td></td>\n",
       "      <td></td>\n",
       "      <td>1.497342</td>\n",
       "      <td>excellent</td>\n",
       "    </tr>\n",
       "  </tbody>\n",
       "</table>\n",
       "</div>"
      ],
      "text/plain": [
       "Survived      Ā      А     P(Hi)   P(Hi|Ā)   P(Hi|A) posterior-odds  \\\n",
       "Name                                                                  \n",
       "Mr        436.0   81.0  0.580247  0.794171  0.236842       0.298225   \n",
       "Capt        1.0    0.0  0.001122  0.001821  0.000000              0   \n",
       "Ms          0.0    1.0  0.001122  0.000000  0.002924            inf   \n",
       "Mme         0.0    1.0  0.001122  0.000000  0.002924            inf   \n",
       "Mlle        0.0    2.0  0.002245  0.000000  0.005848            inf   \n",
       "Rev         6.0    0.0  0.006734  0.010929  0.000000              0   \n",
       "Sir         0.0    1.0  0.001122  0.000000  0.002924            inf   \n",
       "Jonkheer    1.0    0.0  0.001122  0.001821  0.000000              0   \n",
       "Don         1.0    0.0  0.001122  0.001821  0.000000              0   \n",
       "Countess    0.0    1.0  0.001122  0.000000  0.002924            inf   \n",
       "Lady        0.0    1.0  0.001122  0.000000  0.002924            inf   \n",
       "Dr          4.0    3.0  0.007856  0.007286  0.008772        1.20395   \n",
       "Major       1.0    1.0  0.002245  0.001821  0.002924        1.60526   \n",
       "Col         1.0    1.0  0.002245  0.001821  0.002924        1.60526   \n",
       "Master     17.0   23.0  0.044893  0.030965  0.067251        2.17183   \n",
       "Miss       55.0  127.0  0.204265  0.100182  0.371345         3.7067   \n",
       "Mrs        26.0   99.0  0.140292  0.047359  0.289474        6.11235   \n",
       "total     549.0  342.0  1.000000  1.000000  1.000000                  \n",
       "\n",
       "Survived weight-of-evidence  information-value conclusion  \n",
       "Name                                                       \n",
       "Mr                 -1.20991           0.674315  excellent  \n",
       "Capt                      0          -0.000000    useless  \n",
       "Ms                        0           0.000000    useless  \n",
       "Mme                       0           0.000000    useless  \n",
       "Mlle                      0           0.000000    useless  \n",
       "Rev                       0          -0.000000    useless  \n",
       "Sir                       0           0.000000    useless  \n",
       "Jonkheer                  0          -0.000000    useless  \n",
       "Don                       0          -0.000000    useless  \n",
       "Countess                  0           0.000000    useless  \n",
       "Lady                      0           0.000000    useless  \n",
       "Dr                 0.185606           0.000276    useless  \n",
       "Major              0.473288           0.000522    useless  \n",
       "Col                0.473288           0.000522    useless  \n",
       "Master             0.775569           0.028142       weak  \n",
       "Miss                1.31014           0.355262     strong  \n",
       "Mrs                 1.81031           0.438303     strong  \n",
       "total                                 1.497342  excellent  "
      ]
     },
     "execution_count": 17,
     "metadata": {},
     "output_type": "execute_result"
    }
   ],
   "source": [
    "# transform = lambda x: x.str.split(', ').str.get(1).str.split('.').str.get(0)\n",
    "transform1 = lambda x: x.str.extract(' ([A-Za-z]+)\\.', expand=False)\n",
    "\n",
    "feature = transform1(dataset['Name'])\n",
    "woe.calculate(H = feature, A = y_true, woe_sorted=True)"
   ]
  },
  {
   "cell_type": "markdown",
   "metadata": {},
   "source": [
    "We will replace rare titles"
   ]
  },
  {
   "cell_type": "code",
   "execution_count": 18,
   "metadata": {},
   "outputs": [],
   "source": [
    "rare = ['Lady', 'Countess','the Countess','Capt', 'Col','Don', 'Dr', 'Major', 'Rev', 'Sir', 'Jonkheer', 'Dona']"
   ]
  },
  {
   "cell_type": "code",
   "execution_count": 19,
   "metadata": {},
   "outputs": [],
   "source": [
    "transform2 = lambda x: x.replace(rare, 'rare')\n",
    "transform3 = lambda x: x.replace(['Mlle','Ms','Mme'], 'Miss')\n",
    "\n",
    "feature = transform3(transform2(feature))"
   ]
  },
  {
   "cell_type": "code",
   "execution_count": 20,
   "metadata": {},
   "outputs": [
    {
     "data": {
      "text/html": [
       "<div>\n",
       "<style scoped>\n",
       "    .dataframe tbody tr th:only-of-type {\n",
       "        vertical-align: middle;\n",
       "    }\n",
       "\n",
       "    .dataframe tbody tr th {\n",
       "        vertical-align: top;\n",
       "    }\n",
       "\n",
       "    .dataframe thead th {\n",
       "        text-align: right;\n",
       "    }\n",
       "</style>\n",
       "<table border=\"1\" class=\"dataframe\">\n",
       "  <thead>\n",
       "    <tr style=\"text-align: right;\">\n",
       "      <th>Survived</th>\n",
       "      <th>Ā</th>\n",
       "      <th>А</th>\n",
       "      <th>P(Hi)</th>\n",
       "      <th>P(Hi|Ā)</th>\n",
       "      <th>P(Hi|A)</th>\n",
       "      <th>posterior-odds</th>\n",
       "      <th>weight-of-evidence</th>\n",
       "      <th>information-value</th>\n",
       "      <th>conclusion</th>\n",
       "    </tr>\n",
       "    <tr>\n",
       "      <th>Name</th>\n",
       "      <th></th>\n",
       "      <th></th>\n",
       "      <th></th>\n",
       "      <th></th>\n",
       "      <th></th>\n",
       "      <th></th>\n",
       "      <th></th>\n",
       "      <th></th>\n",
       "      <th></th>\n",
       "    </tr>\n",
       "  </thead>\n",
       "  <tbody>\n",
       "    <tr>\n",
       "      <th>Mr</th>\n",
       "      <td>436.0</td>\n",
       "      <td>81.0</td>\n",
       "      <td>0.580247</td>\n",
       "      <td>0.794171</td>\n",
       "      <td>0.236842</td>\n",
       "      <td>0.298225</td>\n",
       "      <td>-1.20991</td>\n",
       "      <td>0.674315</td>\n",
       "      <td>excellent</td>\n",
       "    </tr>\n",
       "    <tr>\n",
       "      <th>rare</th>\n",
       "      <td>15.0</td>\n",
       "      <td>8.0</td>\n",
       "      <td>0.025814</td>\n",
       "      <td>0.027322</td>\n",
       "      <td>0.023392</td>\n",
       "      <td>0.85614</td>\n",
       "      <td>-0.155321</td>\n",
       "      <td>0.000611</td>\n",
       "      <td>useless</td>\n",
       "    </tr>\n",
       "    <tr>\n",
       "      <th>Master</th>\n",
       "      <td>17.0</td>\n",
       "      <td>23.0</td>\n",
       "      <td>0.044893</td>\n",
       "      <td>0.030965</td>\n",
       "      <td>0.067251</td>\n",
       "      <td>2.17183</td>\n",
       "      <td>0.775569</td>\n",
       "      <td>0.028142</td>\n",
       "      <td>weak</td>\n",
       "    </tr>\n",
       "    <tr>\n",
       "      <th>Miss</th>\n",
       "      <td>55.0</td>\n",
       "      <td>131.0</td>\n",
       "      <td>0.208754</td>\n",
       "      <td>0.100182</td>\n",
       "      <td>0.383041</td>\n",
       "      <td>3.82344</td>\n",
       "      <td>1.34115</td>\n",
       "      <td>0.379357</td>\n",
       "      <td>strong</td>\n",
       "    </tr>\n",
       "    <tr>\n",
       "      <th>Mrs</th>\n",
       "      <td>26.0</td>\n",
       "      <td>99.0</td>\n",
       "      <td>0.140292</td>\n",
       "      <td>0.047359</td>\n",
       "      <td>0.289474</td>\n",
       "      <td>6.11235</td>\n",
       "      <td>1.81031</td>\n",
       "      <td>0.438303</td>\n",
       "      <td>strong</td>\n",
       "    </tr>\n",
       "    <tr>\n",
       "      <th>total</th>\n",
       "      <td>549.0</td>\n",
       "      <td>342.0</td>\n",
       "      <td>1.000000</td>\n",
       "      <td>1.000000</td>\n",
       "      <td>1.000000</td>\n",
       "      <td></td>\n",
       "      <td></td>\n",
       "      <td>1.520728</td>\n",
       "      <td>excellent</td>\n",
       "    </tr>\n",
       "  </tbody>\n",
       "</table>\n",
       "</div>"
      ],
      "text/plain": [
       "Survived      Ā      А     P(Hi)   P(Hi|Ā)   P(Hi|A) posterior-odds  \\\n",
       "Name                                                                  \n",
       "Mr        436.0   81.0  0.580247  0.794171  0.236842       0.298225   \n",
       "rare       15.0    8.0  0.025814  0.027322  0.023392        0.85614   \n",
       "Master     17.0   23.0  0.044893  0.030965  0.067251        2.17183   \n",
       "Miss       55.0  131.0  0.208754  0.100182  0.383041        3.82344   \n",
       "Mrs        26.0   99.0  0.140292  0.047359  0.289474        6.11235   \n",
       "total     549.0  342.0  1.000000  1.000000  1.000000                  \n",
       "\n",
       "Survived weight-of-evidence  information-value conclusion  \n",
       "Name                                                       \n",
       "Mr                 -1.20991           0.674315  excellent  \n",
       "rare              -0.155321           0.000611    useless  \n",
       "Master             0.775569           0.028142       weak  \n",
       "Miss                1.34115           0.379357     strong  \n",
       "Mrs                 1.81031           0.438303     strong  \n",
       "total                                 1.520728  excellent  "
      ]
     },
     "execution_count": 20,
     "metadata": {},
     "output_type": "execute_result"
    }
   ],
   "source": [
    "woe.calculate(H = feature, A = y_true, woe_sorted=True)"
   ]
  },
  {
   "cell_type": "code",
   "execution_count": 21,
   "metadata": {},
   "outputs": [],
   "source": [
    "pipeline.add(step=Preprocessing.Step(\n",
    "    input_var='Name',\n",
    "    transformations=[\n",
    "        transform1, # extract title from name\n",
    "        transform2, # replace rare titles\n",
    "        transform3, # replace miss\n",
    "        lambda x, w=woe.dict: x.astype('str').map(w), # replace by woe value\n",
    "    ],\n",
    "    output_var='title_woe',\n",
    "    info=woe.iv\n",
    "))"
   ]
  },
  {
   "cell_type": "markdown",
   "metadata": {},
   "source": [
    "### 4.9. Sibsp +  Parch = Family"
   ]
  },
  {
   "cell_type": "code",
   "execution_count": 22,
   "metadata": {},
   "outputs": [],
   "source": [
    "dataset['family'] = dataset['SibSp'] + dataset['Parch']"
   ]
  },
  {
   "cell_type": "code",
   "execution_count": 23,
   "metadata": {},
   "outputs": [
    {
     "data": {
      "image/png": "[encoded data removed]",
      "text/plain": [
       "<Figure size 1152x288 with 1 Axes>"
      ]
     },
     "metadata": {
      "needs_background": "light"
     },
     "output_type": "display_data"
    }
   ],
   "source": [
    "plot_density(data=dataset, feature='family', target='Survived')"
   ]
  },
  {
   "cell_type": "markdown",
   "metadata": {},
   "source": [
    "We can manualy crate 3 groups. Alone - more chanse to die, small family - more chance to survive, and big family - to die"
   ]
  },
  {
   "cell_type": "code",
   "execution_count": 24,
   "metadata": {},
   "outputs": [
    {
     "data": {
      "text/html": [
       "<div>\n",
       "<style scoped>\n",
       "    .dataframe tbody tr th:only-of-type {\n",
       "        vertical-align: middle;\n",
       "    }\n",
       "\n",
       "    .dataframe tbody tr th {\n",
       "        vertical-align: top;\n",
       "    }\n",
       "\n",
       "    .dataframe thead th {\n",
       "        text-align: right;\n",
       "    }\n",
       "</style>\n",
       "<table border=\"1\" class=\"dataframe\">\n",
       "  <thead>\n",
       "    <tr style=\"text-align: right;\">\n",
       "      <th>Survived</th>\n",
       "      <th>Ā</th>\n",
       "      <th>А</th>\n",
       "      <th>P(Hi)</th>\n",
       "      <th>P(Hi|Ā)</th>\n",
       "      <th>P(Hi|A)</th>\n",
       "      <th>posterior-odds</th>\n",
       "      <th>weight-of-evidence</th>\n",
       "      <th>information-value</th>\n",
       "      <th>conclusion</th>\n",
       "    </tr>\n",
       "    <tr>\n",
       "      <th>row_0</th>\n",
       "      <th></th>\n",
       "      <th></th>\n",
       "      <th></th>\n",
       "      <th></th>\n",
       "      <th></th>\n",
       "      <th></th>\n",
       "      <th></th>\n",
       "      <th></th>\n",
       "      <th></th>\n",
       "    </tr>\n",
       "  </thead>\n",
       "  <tbody>\n",
       "    <tr>\n",
       "      <th>(-inf, 0.0]</th>\n",
       "      <td>374.0</td>\n",
       "      <td>163.0</td>\n",
       "      <td>0.602694</td>\n",
       "      <td>0.681239</td>\n",
       "      <td>0.476608</td>\n",
       "      <td>0.69962</td>\n",
       "      <td>-0.357218</td>\n",
       "      <td>0.073098</td>\n",
       "      <td>weak</td>\n",
       "    </tr>\n",
       "    <tr>\n",
       "      <th>(2.0, inf]</th>\n",
       "      <td>60.0</td>\n",
       "      <td>31.0</td>\n",
       "      <td>0.102132</td>\n",
       "      <td>0.109290</td>\n",
       "      <td>0.090643</td>\n",
       "      <td>0.829386</td>\n",
       "      <td>-0.18707</td>\n",
       "      <td>0.003488</td>\n",
       "      <td>useless</td>\n",
       "    </tr>\n",
       "    <tr>\n",
       "      <th>(0.0, 1.0]</th>\n",
       "      <td>72.0</td>\n",
       "      <td>89.0</td>\n",
       "      <td>0.180696</td>\n",
       "      <td>0.131148</td>\n",
       "      <td>0.260234</td>\n",
       "      <td>1.98428</td>\n",
       "      <td>0.685258</td>\n",
       "      <td>0.088457</td>\n",
       "      <td>weak</td>\n",
       "    </tr>\n",
       "    <tr>\n",
       "      <th>(1.0, 2.0]</th>\n",
       "      <td>43.0</td>\n",
       "      <td>59.0</td>\n",
       "      <td>0.114478</td>\n",
       "      <td>0.078324</td>\n",
       "      <td>0.172515</td>\n",
       "      <td>2.20257</td>\n",
       "      <td>0.789625</td>\n",
       "      <td>0.074375</td>\n",
       "      <td>weak</td>\n",
       "    </tr>\n",
       "    <tr>\n",
       "      <th>total</th>\n",
       "      <td>549.0</td>\n",
       "      <td>342.0</td>\n",
       "      <td>1.000000</td>\n",
       "      <td>1.000000</td>\n",
       "      <td>1.000000</td>\n",
       "      <td></td>\n",
       "      <td></td>\n",
       "      <td>0.239418</td>\n",
       "      <td>medium</td>\n",
       "    </tr>\n",
       "  </tbody>\n",
       "</table>\n",
       "</div>"
      ],
      "text/plain": [
       "Survived         Ā      А     P(Hi)   P(Hi|Ā)   P(Hi|A) posterior-odds  \\\n",
       "row_0                                                                    \n",
       "(-inf, 0.0]  374.0  163.0  0.602694  0.681239  0.476608        0.69962   \n",
       "(2.0, inf]    60.0   31.0  0.102132  0.109290  0.090643       0.829386   \n",
       "(0.0, 1.0]    72.0   89.0  0.180696  0.131148  0.260234        1.98428   \n",
       "(1.0, 2.0]    43.0   59.0  0.114478  0.078324  0.172515        2.20257   \n",
       "total        549.0  342.0  1.000000  1.000000  1.000000                  \n",
       "\n",
       "Survived    weight-of-evidence  information-value conclusion  \n",
       "row_0                                                         \n",
       "(-inf, 0.0]          -0.357218           0.073098       weak  \n",
       "(2.0, inf]            -0.18707           0.003488    useless  \n",
       "(0.0, 1.0]            0.685258           0.088457       weak  \n",
       "(1.0, 2.0]            0.789625           0.074375       weak  \n",
       "total                                    0.239418     medium  "
      ]
     },
     "execution_count": 24,
     "metadata": {},
     "output_type": "execute_result"
    }
   ],
   "source": [
    "transform1 = lambda x: x.SibSp  + x.Parch\n",
    "transform2 = lambda x: pd.cut(x, bins=[-np.inf,0,1,2,np.inf])\n",
    "\n",
    "feature = transform2(transform1(dataset))\n",
    "woe.calculate(H = feature, A = y_true, woe_sorted=True)"
   ]
  },
  {
   "cell_type": "code",
   "execution_count": 25,
   "metadata": {},
   "outputs": [],
   "source": [
    "pipeline.add(Preprocessing.Step(\n",
    "    input_var=['SibSp', 'Parch'],\n",
    "    transformations=[\n",
    "        transform1, # sum two fields\n",
    "        transform2, # # binning / discretization\n",
    "        lambda x, w=woe.dict: x.astype('str').map(w), # replace by woe value\n",
    "    ],\n",
    "    output_var='family_bin_woe',\n",
    "    info=woe.iv\n",
    "))"
   ]
  },
  {
   "cell_type": "markdown",
   "metadata": {},
   "source": [
    "### 4.10. Age"
   ]
  },
  {
   "cell_type": "markdown",
   "metadata": {},
   "source": [
    "In Age we have missing values, which we can fill missing values by mean or median values"
   ]
  },
  {
   "cell_type": "code",
   "execution_count": 26,
   "metadata": {},
   "outputs": [
    {
     "data": {
      "text/html": [
       "<div>\n",
       "<style scoped>\n",
       "    .dataframe tbody tr th:only-of-type {\n",
       "        vertical-align: middle;\n",
       "    }\n",
       "\n",
       "    .dataframe tbody tr th {\n",
       "        vertical-align: top;\n",
       "    }\n",
       "\n",
       "    .dataframe thead th {\n",
       "        text-align: right;\n",
       "    }\n",
       "</style>\n",
       "<table border=\"1\" class=\"dataframe\">\n",
       "  <thead>\n",
       "    <tr style=\"text-align: right;\">\n",
       "      <th></th>\n",
       "      <th>Age</th>\n",
       "    </tr>\n",
       "    <tr>\n",
       "      <th>Pclass</th>\n",
       "      <th></th>\n",
       "    </tr>\n",
       "  </thead>\n",
       "  <tbody>\n",
       "    <tr>\n",
       "      <th>1</th>\n",
       "      <td>37.0</td>\n",
       "    </tr>\n",
       "    <tr>\n",
       "      <th>2</th>\n",
       "      <td>29.0</td>\n",
       "    </tr>\n",
       "    <tr>\n",
       "      <th>3</th>\n",
       "      <td>24.0</td>\n",
       "    </tr>\n",
       "  </tbody>\n",
       "</table>\n",
       "</div>"
      ],
      "text/plain": [
       "         Age\n",
       "Pclass      \n",
       "1       37.0\n",
       "2       29.0\n",
       "3       24.0"
      ]
     },
     "execution_count": 26,
     "metadata": {},
     "output_type": "execute_result"
    }
   ],
   "source": [
    "dataset.pivot_table(index='Pclass', values='Age', aggfunc=np.median)"
   ]
  },
  {
   "cell_type": "code",
   "execution_count": 27,
   "metadata": {},
   "outputs": [],
   "source": [
    "dataset['Age'].fillna(dataset['Pclass'].map({1:39, 2:29, 3:24}), inplace=True)"
   ]
  },
  {
   "cell_type": "markdown",
   "metadata": {},
   "source": [
    "Now we can see distribution"
   ]
  },
  {
   "cell_type": "code",
   "execution_count": 28,
   "metadata": {},
   "outputs": [
    {
     "data": {
      "image/png": "[encoded data removed]",
      "text/plain": [
       "<Figure size 1152x288 with 1 Axes>"
      ]
     },
     "metadata": {
      "needs_background": "light"
     },
     "output_type": "display_data"
    }
   ],
   "source": [
    "plot_density(data=dataset, target='Survived', feature='Age')"
   ]
  },
  {
   "cell_type": "markdown",
   "metadata": {},
   "source": [
    "Again we see 4 group and it is better to bin manualy"
   ]
  },
  {
   "cell_type": "code",
   "execution_count": 29,
   "metadata": {},
   "outputs": [
    {
     "data": {
      "text/html": [
       "<div>\n",
       "<style scoped>\n",
       "    .dataframe tbody tr th:only-of-type {\n",
       "        vertical-align: middle;\n",
       "    }\n",
       "\n",
       "    .dataframe tbody tr th {\n",
       "        vertical-align: top;\n",
       "    }\n",
       "\n",
       "    .dataframe thead th {\n",
       "        text-align: right;\n",
       "    }\n",
       "</style>\n",
       "<table border=\"1\" class=\"dataframe\">\n",
       "  <thead>\n",
       "    <tr style=\"text-align: right;\">\n",
       "      <th>Survived</th>\n",
       "      <th>Ā</th>\n",
       "      <th>А</th>\n",
       "      <th>P(Hi)</th>\n",
       "      <th>P(Hi|Ā)</th>\n",
       "      <th>P(Hi|A)</th>\n",
       "      <th>posterior-odds</th>\n",
       "      <th>weight-of-evidence</th>\n",
       "      <th>information-value</th>\n",
       "      <th>conclusion</th>\n",
       "    </tr>\n",
       "    <tr>\n",
       "      <th>Age</th>\n",
       "      <th></th>\n",
       "      <th></th>\n",
       "      <th></th>\n",
       "      <th></th>\n",
       "      <th></th>\n",
       "      <th></th>\n",
       "      <th></th>\n",
       "      <th></th>\n",
       "      <th></th>\n",
       "    </tr>\n",
       "  </thead>\n",
       "  <tbody>\n",
       "    <tr>\n",
       "      <th>(58.0, inf]</th>\n",
       "      <td>21.0</td>\n",
       "      <td>7.0</td>\n",
       "      <td>0.031425</td>\n",
       "      <td>0.038251</td>\n",
       "      <td>0.020468</td>\n",
       "      <td>0.535088</td>\n",
       "      <td>-0.625325</td>\n",
       "      <td>0.011120</td>\n",
       "      <td>useless</td>\n",
       "    </tr>\n",
       "    <tr>\n",
       "      <th>(15.0, 30.0]</th>\n",
       "      <td>318.0</td>\n",
       "      <td>155.0</td>\n",
       "      <td>0.530864</td>\n",
       "      <td>0.579235</td>\n",
       "      <td>0.453216</td>\n",
       "      <td>0.78244</td>\n",
       "      <td>-0.245339</td>\n",
       "      <td>0.030917</td>\n",
       "      <td>weak</td>\n",
       "    </tr>\n",
       "    <tr>\n",
       "      <th>(30.0, 58.0]</th>\n",
       "      <td>176.0</td>\n",
       "      <td>131.0</td>\n",
       "      <td>0.344557</td>\n",
       "      <td>0.320583</td>\n",
       "      <td>0.383041</td>\n",
       "      <td>1.19483</td>\n",
       "      <td>0.178001</td>\n",
       "      <td>0.011118</td>\n",
       "      <td>useless</td>\n",
       "    </tr>\n",
       "    <tr>\n",
       "      <th>(8.0, 15.0]</th>\n",
       "      <td>16.0</td>\n",
       "      <td>13.0</td>\n",
       "      <td>0.032548</td>\n",
       "      <td>0.029144</td>\n",
       "      <td>0.038012</td>\n",
       "      <td>1.30428</td>\n",
       "      <td>0.265648</td>\n",
       "      <td>0.002356</td>\n",
       "      <td>useless</td>\n",
       "    </tr>\n",
       "    <tr>\n",
       "      <th>(-inf, 8.0]</th>\n",
       "      <td>18.0</td>\n",
       "      <td>36.0</td>\n",
       "      <td>0.060606</td>\n",
       "      <td>0.032787</td>\n",
       "      <td>0.105263</td>\n",
       "      <td>3.21053</td>\n",
       "      <td>1.16643</td>\n",
       "      <td>0.084539</td>\n",
       "      <td>weak</td>\n",
       "    </tr>\n",
       "    <tr>\n",
       "      <th>total</th>\n",
       "      <td>549.0</td>\n",
       "      <td>342.0</td>\n",
       "      <td>1.000000</td>\n",
       "      <td>1.000000</td>\n",
       "      <td>1.000000</td>\n",
       "      <td></td>\n",
       "      <td></td>\n",
       "      <td>0.140050</td>\n",
       "      <td>medium</td>\n",
       "    </tr>\n",
       "  </tbody>\n",
       "</table>\n",
       "</div>"
      ],
      "text/plain": [
       "Survived          Ā      А     P(Hi)   P(Hi|Ā)   P(Hi|A) posterior-odds  \\\n",
       "Age                                                                       \n",
       "(58.0, inf]    21.0    7.0  0.031425  0.038251  0.020468       0.535088   \n",
       "(15.0, 30.0]  318.0  155.0  0.530864  0.579235  0.453216        0.78244   \n",
       "(30.0, 58.0]  176.0  131.0  0.344557  0.320583  0.383041        1.19483   \n",
       "(8.0, 15.0]    16.0   13.0  0.032548  0.029144  0.038012        1.30428   \n",
       "(-inf, 8.0]    18.0   36.0  0.060606  0.032787  0.105263        3.21053   \n",
       "total         549.0  342.0  1.000000  1.000000  1.000000                  \n",
       "\n",
       "Survived     weight-of-evidence  information-value conclusion  \n",
       "Age                                                            \n",
       "(58.0, inf]           -0.625325           0.011120    useless  \n",
       "(15.0, 30.0]          -0.245339           0.030917       weak  \n",
       "(30.0, 58.0]           0.178001           0.011118    useless  \n",
       "(8.0, 15.0]            0.265648           0.002356    useless  \n",
       "(-inf, 8.0]             1.16643           0.084539       weak  \n",
       "total                                     0.140050     medium  "
      ]
     },
     "execution_count": 29,
     "metadata": {},
     "output_type": "execute_result"
    }
   ],
   "source": [
    "transform1 = lambda x: x.Age.fillna(x.Pclass.map({1:39, 2:29, 3:24}))\n",
    "transform2 = lambda x: pd.cut(x, bins=[-np.inf,8,15,30,58,np.inf])\n",
    "\n",
    "feature = transform2(transform1(dataset))\n",
    "woe.calculate(H = feature, A = y_true, woe_sorted=True)"
   ]
  },
  {
   "cell_type": "code",
   "execution_count": 30,
   "metadata": {},
   "outputs": [],
   "source": [
    "pipeline.add(Preprocessing.Step(\n",
    "    input_var=['Age', 'Pclass'],\n",
    "    transformations=[\n",
    "        transform1, # fill missing values with median by Pclass\n",
    "        transform2, # # binning / discretization\n",
    "        lambda x, w=woe.dict: x.astype('str').map(w), # replace by woe value\n",
    "    ],\n",
    "    output_var='age_bin_woe',\n",
    "    info=woe.iv\n",
    "))"
   ]
  },
  {
   "cell_type": "markdown",
   "metadata": {},
   "source": [
    "### 4.11. Fare"
   ]
  },
  {
   "cell_type": "code",
   "execution_count": 31,
   "metadata": {},
   "outputs": [
    {
     "data": {
      "text/plain": [
       "0"
      ]
     },
     "execution_count": 31,
     "metadata": {},
     "output_type": "execute_result"
    }
   ],
   "source": [
    "dataset['Fare'].isnull().sum()"
   ]
  },
  {
   "cell_type": "code",
   "execution_count": 32,
   "metadata": {},
   "outputs": [],
   "source": [
    "dataset['Fare'].fillna(0, inplace=True)"
   ]
  },
  {
   "cell_type": "code",
   "execution_count": 33,
   "metadata": {},
   "outputs": [
    {
     "data": {
      "image/png": "[encoded data removed]",
      "text/plain": [
       "<Figure size 1152x288 with 1 Axes>"
      ]
     },
     "metadata": {
      "needs_background": "light"
     },
     "output_type": "display_data"
    }
   ],
   "source": [
    "plot_density(data=dataset[dataset['Fare']<200], target='Survived', feature='Fare')\n",
    "plt.show()"
   ]
  },
  {
   "cell_type": "code",
   "execution_count": 34,
   "metadata": {},
   "outputs": [
    {
     "data": {
      "text/html": [
       "<div>\n",
       "<style scoped>\n",
       "    .dataframe tbody tr th:only-of-type {\n",
       "        vertical-align: middle;\n",
       "    }\n",
       "\n",
       "    .dataframe tbody tr th {\n",
       "        vertical-align: top;\n",
       "    }\n",
       "\n",
       "    .dataframe thead th {\n",
       "        text-align: right;\n",
       "    }\n",
       "</style>\n",
       "<table border=\"1\" class=\"dataframe\">\n",
       "  <thead>\n",
       "    <tr style=\"text-align: right;\">\n",
       "      <th>Survived</th>\n",
       "      <th>Ā</th>\n",
       "      <th>А</th>\n",
       "      <th>P(Hi)</th>\n",
       "      <th>P(Hi|Ā)</th>\n",
       "      <th>P(Hi|A)</th>\n",
       "      <th>posterior-odds</th>\n",
       "      <th>weight-of-evidence</th>\n",
       "      <th>information-value</th>\n",
       "      <th>conclusion</th>\n",
       "    </tr>\n",
       "    <tr>\n",
       "      <th>Fare</th>\n",
       "      <th></th>\n",
       "      <th></th>\n",
       "      <th></th>\n",
       "      <th></th>\n",
       "      <th></th>\n",
       "      <th></th>\n",
       "      <th></th>\n",
       "      <th></th>\n",
       "      <th></th>\n",
       "    </tr>\n",
       "  </thead>\n",
       "  <tbody>\n",
       "    <tr>\n",
       "      <th>(-inf, 20.0]</th>\n",
       "      <td>372.0</td>\n",
       "      <td>143.0</td>\n",
       "      <td>0.578002</td>\n",
       "      <td>0.677596</td>\n",
       "      <td>0.418129</td>\n",
       "      <td>0.617077</td>\n",
       "      <td>-0.482762</td>\n",
       "      <td>0.125261</td>\n",
       "      <td>medium</td>\n",
       "    </tr>\n",
       "    <tr>\n",
       "      <th>(20.0, 40.0]</th>\n",
       "      <td>114.0</td>\n",
       "      <td>86.0</td>\n",
       "      <td>0.224467</td>\n",
       "      <td>0.207650</td>\n",
       "      <td>0.251462</td>\n",
       "      <td>1.21099</td>\n",
       "      <td>0.191437</td>\n",
       "      <td>0.008387</td>\n",
       "      <td>useless</td>\n",
       "    </tr>\n",
       "    <tr>\n",
       "      <th>(40.0, 80.0]</th>\n",
       "      <td>46.0</td>\n",
       "      <td>56.0</td>\n",
       "      <td>0.114478</td>\n",
       "      <td>0.083789</td>\n",
       "      <td>0.163743</td>\n",
       "      <td>1.95423</td>\n",
       "      <td>0.669998</td>\n",
       "      <td>0.053569</td>\n",
       "      <td>weak</td>\n",
       "    </tr>\n",
       "    <tr>\n",
       "      <th>(80.0, inf]</th>\n",
       "      <td>17.0</td>\n",
       "      <td>57.0</td>\n",
       "      <td>0.083053</td>\n",
       "      <td>0.030965</td>\n",
       "      <td>0.166667</td>\n",
       "      <td>5.38235</td>\n",
       "      <td>1.68313</td>\n",
       "      <td>0.228402</td>\n",
       "      <td>medium</td>\n",
       "    </tr>\n",
       "    <tr>\n",
       "      <th>total</th>\n",
       "      <td>549.0</td>\n",
       "      <td>342.0</td>\n",
       "      <td>1.000000</td>\n",
       "      <td>1.000000</td>\n",
       "      <td>1.000000</td>\n",
       "      <td></td>\n",
       "      <td></td>\n",
       "      <td>0.415619</td>\n",
       "      <td>strong</td>\n",
       "    </tr>\n",
       "  </tbody>\n",
       "</table>\n",
       "</div>"
      ],
      "text/plain": [
       "Survived          Ā      А     P(Hi)   P(Hi|Ā)   P(Hi|A) posterior-odds  \\\n",
       "Fare                                                                      \n",
       "(-inf, 20.0]  372.0  143.0  0.578002  0.677596  0.418129       0.617077   \n",
       "(20.0, 40.0]  114.0   86.0  0.224467  0.207650  0.251462        1.21099   \n",
       "(40.0, 80.0]   46.0   56.0  0.114478  0.083789  0.163743        1.95423   \n",
       "(80.0, inf]    17.0   57.0  0.083053  0.030965  0.166667        5.38235   \n",
       "total         549.0  342.0  1.000000  1.000000  1.000000                  \n",
       "\n",
       "Survived     weight-of-evidence  information-value conclusion  \n",
       "Fare                                                           \n",
       "(-inf, 20.0]          -0.482762           0.125261     medium  \n",
       "(20.0, 40.0]           0.191437           0.008387    useless  \n",
       "(40.0, 80.0]           0.669998           0.053569       weak  \n",
       "(80.0, inf]             1.68313           0.228402     medium  \n",
       "total                                     0.415619     strong  "
      ]
     },
     "execution_count": 34,
     "metadata": {},
     "output_type": "execute_result"
    }
   ],
   "source": [
    "transform1 = lambda x: x.fillna(0)\n",
    "transform2 = lambda x: pd.cut(x, bins=[-np.inf,20,40,80,np.inf])\n",
    "\n",
    "feature = transform2(transform1(dataset['Fare']))\n",
    "woe.calculate(H = feature, A = y_true, woe_sorted=True)"
   ]
  },
  {
   "cell_type": "code",
   "execution_count": 35,
   "metadata": {},
   "outputs": [],
   "source": [
    "pipeline.add(Preprocessing.Step(\n",
    "    input_var='Fare',\n",
    "    transformations=[\n",
    "        transform1, # fill missing values\n",
    "        transform2, # # binning / discretization\n",
    "        lambda x, w=woe.dict: x.astype('str').map(w), # replace by woe value\n",
    "    ],\n",
    "    output_var='fare_bin_woe',\n",
    "    info=woe.iv\n",
    "))"
   ]
  },
  {
   "cell_type": "markdown",
   "metadata": {},
   "source": [
    "### 4.12. Gender + passenger class"
   ]
  },
  {
   "cell_type": "code",
   "execution_count": 36,
   "metadata": {},
   "outputs": [
    {
     "data": {
      "text/html": [
       "<div>\n",
       "<style scoped>\n",
       "    .dataframe tbody tr th:only-of-type {\n",
       "        vertical-align: middle;\n",
       "    }\n",
       "\n",
       "    .dataframe tbody tr th {\n",
       "        vertical-align: top;\n",
       "    }\n",
       "\n",
       "    .dataframe thead th {\n",
       "        text-align: right;\n",
       "    }\n",
       "</style>\n",
       "<table border=\"1\" class=\"dataframe\">\n",
       "  <thead>\n",
       "    <tr style=\"text-align: right;\">\n",
       "      <th>Survived</th>\n",
       "      <th>Ā</th>\n",
       "      <th>А</th>\n",
       "      <th>P(Hi)</th>\n",
       "      <th>P(Hi|Ā)</th>\n",
       "      <th>P(Hi|A)</th>\n",
       "      <th>posterior-odds</th>\n",
       "      <th>weight-of-evidence</th>\n",
       "      <th>information-value</th>\n",
       "      <th>conclusion</th>\n",
       "    </tr>\n",
       "    <tr>\n",
       "      <th>row_0</th>\n",
       "      <th></th>\n",
       "      <th></th>\n",
       "      <th></th>\n",
       "      <th></th>\n",
       "      <th></th>\n",
       "      <th></th>\n",
       "      <th></th>\n",
       "      <th></th>\n",
       "      <th></th>\n",
       "    </tr>\n",
       "  </thead>\n",
       "  <tbody>\n",
       "    <tr>\n",
       "      <th>male-3</th>\n",
       "      <td>300.0</td>\n",
       "      <td>47.0</td>\n",
       "      <td>0.389450</td>\n",
       "      <td>0.546448</td>\n",
       "      <td>0.137427</td>\n",
       "      <td>0.251491</td>\n",
       "      <td>-1.38035</td>\n",
       "      <td>0.564591</td>\n",
       "      <td>excellent</td>\n",
       "    </tr>\n",
       "    <tr>\n",
       "      <th>male-2</th>\n",
       "      <td>91.0</td>\n",
       "      <td>17.0</td>\n",
       "      <td>0.121212</td>\n",
       "      <td>0.165756</td>\n",
       "      <td>0.049708</td>\n",
       "      <td>0.299884</td>\n",
       "      <td>-1.20436</td>\n",
       "      <td>0.139764</td>\n",
       "      <td>medium</td>\n",
       "    </tr>\n",
       "    <tr>\n",
       "      <th>male-1</th>\n",
       "      <td>77.0</td>\n",
       "      <td>45.0</td>\n",
       "      <td>0.136925</td>\n",
       "      <td>0.140255</td>\n",
       "      <td>0.131579</td>\n",
       "      <td>0.938141</td>\n",
       "      <td>-0.0638552</td>\n",
       "      <td>0.000554</td>\n",
       "      <td>useless</td>\n",
       "    </tr>\n",
       "    <tr>\n",
       "      <th>female-3</th>\n",
       "      <td>72.0</td>\n",
       "      <td>72.0</td>\n",
       "      <td>0.161616</td>\n",
       "      <td>0.131148</td>\n",
       "      <td>0.210526</td>\n",
       "      <td>1.60526</td>\n",
       "      <td>0.473288</td>\n",
       "      <td>0.037569</td>\n",
       "      <td>weak</td>\n",
       "    </tr>\n",
       "    <tr>\n",
       "      <th>female-2</th>\n",
       "      <td>6.0</td>\n",
       "      <td>70.0</td>\n",
       "      <td>0.085297</td>\n",
       "      <td>0.010929</td>\n",
       "      <td>0.204678</td>\n",
       "      <td>18.7281</td>\n",
       "      <td>2.93002</td>\n",
       "      <td>0.567690</td>\n",
       "      <td>excellent</td>\n",
       "    </tr>\n",
       "    <tr>\n",
       "      <th>female-1</th>\n",
       "      <td>3.0</td>\n",
       "      <td>91.0</td>\n",
       "      <td>0.105499</td>\n",
       "      <td>0.005464</td>\n",
       "      <td>0.266082</td>\n",
       "      <td>48.693</td>\n",
       "      <td>3.88553</td>\n",
       "      <td>1.012638</td>\n",
       "      <td>excellent</td>\n",
       "    </tr>\n",
       "    <tr>\n",
       "      <th>total</th>\n",
       "      <td>549.0</td>\n",
       "      <td>342.0</td>\n",
       "      <td>1.000000</td>\n",
       "      <td>1.000000</td>\n",
       "      <td>1.000000</td>\n",
       "      <td></td>\n",
       "      <td></td>\n",
       "      <td>2.322806</td>\n",
       "      <td>excellent</td>\n",
       "    </tr>\n",
       "  </tbody>\n",
       "</table>\n",
       "</div>"
      ],
      "text/plain": [
       "Survived      Ā      А     P(Hi)   P(Hi|Ā)   P(Hi|A) posterior-odds  \\\n",
       "row_0                                                                 \n",
       "male-3    300.0   47.0  0.389450  0.546448  0.137427       0.251491   \n",
       "male-2     91.0   17.0  0.121212  0.165756  0.049708       0.299884   \n",
       "male-1     77.0   45.0  0.136925  0.140255  0.131579       0.938141   \n",
       "female-3   72.0   72.0  0.161616  0.131148  0.210526        1.60526   \n",
       "female-2    6.0   70.0  0.085297  0.010929  0.204678        18.7281   \n",
       "female-1    3.0   91.0  0.105499  0.005464  0.266082         48.693   \n",
       "total     549.0  342.0  1.000000  1.000000  1.000000                  \n",
       "\n",
       "Survived weight-of-evidence  information-value conclusion  \n",
       "row_0                                                      \n",
       "male-3             -1.38035           0.564591  excellent  \n",
       "male-2             -1.20436           0.139764     medium  \n",
       "male-1           -0.0638552           0.000554    useless  \n",
       "female-3           0.473288           0.037569       weak  \n",
       "female-2            2.93002           0.567690  excellent  \n",
       "female-1            3.88553           1.012638  excellent  \n",
       "total                                 2.322806  excellent  "
      ]
     },
     "execution_count": 36,
     "metadata": {},
     "output_type": "execute_result"
    }
   ],
   "source": [
    "transform = lambda x: x.Sex + '-' + x.Pclass.astype(str)\n",
    "\n",
    "feature = transform(dataset)\n",
    "woe.calculate(H = feature, A = y_true, woe_sorted=True)"
   ]
  },
  {
   "cell_type": "code",
   "execution_count": 37,
   "metadata": {},
   "outputs": [],
   "source": [
    "pipeline.add(Preprocessing.Step(\n",
    "    input_var=['Sex','Pclass'],\n",
    "    transformations=[\n",
    "        transform, # combine 2 variables\n",
    "        lambda x, w=woe.dict: x.astype('str').map(w), # replace by woe value\n",
    "    ],\n",
    "    output_var='gender_plass_mix_woe',\n",
    "    info=woe.iv\n",
    "))"
   ]
  },
  {
   "cell_type": "markdown",
   "metadata": {},
   "source": [
    "## 5. Feature selection"
   ]
  },
  {
   "cell_type": "code",
   "execution_count": 38,
   "metadata": {},
   "outputs": [],
   "source": [
    "x_train = pipeline.transform(X=dataset)"
   ]
  },
  {
   "cell_type": "markdown",
   "metadata": {},
   "source": [
    "### 5.1. Correlation analysis"
   ]
  },
  {
   "cell_type": "code",
   "execution_count": 39,
   "metadata": {},
   "outputs": [
    {
     "data": {
      "image/png": "[encoded data removed]",
      "text/plain": [
       "<Figure size 864x720 with 2 Axes>"
      ]
     },
     "metadata": {
      "needs_background": "light"
     },
     "output_type": "display_data"
    }
   ],
   "source": [
    "plt.figure(figsize = (12,10))\n",
    "sns.heatmap(x_train.join(y_true).astype('float64').corr(), annot=True, cmap=\"RdYlGn\", fmt=\".2f\")\n",
    "plt.show()"
   ]
  },
  {
   "cell_type": "markdown",
   "metadata": {},
   "source": [
    "### 5.2. Feature impotrance by inofrmation value"
   ]
  },
  {
   "cell_type": "code",
   "execution_count": 40,
   "metadata": {},
   "outputs": [
    {
     "data": {
      "text/html": [
       "<div>\n",
       "<style scoped>\n",
       "    .dataframe tbody tr th:only-of-type {\n",
       "        vertical-align: middle;\n",
       "    }\n",
       "\n",
       "    .dataframe tbody tr th {\n",
       "        vertical-align: top;\n",
       "    }\n",
       "\n",
       "    .dataframe thead th {\n",
       "        text-align: right;\n",
       "    }\n",
       "</style>\n",
       "<table border=\"1\" class=\"dataframe\">\n",
       "  <thead>\n",
       "    <tr style=\"text-align: right;\">\n",
       "      <th></th>\n",
       "      <th>conclusion</th>\n",
       "      <th>feature</th>\n",
       "      <th>information-value</th>\n",
       "    </tr>\n",
       "  </thead>\n",
       "  <tbody>\n",
       "    <tr>\n",
       "      <th>8</th>\n",
       "      <td>excellent</td>\n",
       "      <td>gender_plass_mix_woe</td>\n",
       "      <td>2.322806</td>\n",
       "    </tr>\n",
       "    <tr>\n",
       "      <th>4</th>\n",
       "      <td>excellent</td>\n",
       "      <td>title_woe</td>\n",
       "      <td>1.520728</td>\n",
       "    </tr>\n",
       "    <tr>\n",
       "      <th>2</th>\n",
       "      <td>excellent</td>\n",
       "      <td>sex_woe</td>\n",
       "      <td>1.341681</td>\n",
       "    </tr>\n",
       "    <tr>\n",
       "      <th>3</th>\n",
       "      <td>excellent</td>\n",
       "      <td>pclass_woe</td>\n",
       "      <td>0.500950</td>\n",
       "    </tr>\n",
       "    <tr>\n",
       "      <th>0</th>\n",
       "      <td>strong</td>\n",
       "      <td>cabin_is_empty_woe</td>\n",
       "      <td>0.421963</td>\n",
       "    </tr>\n",
       "    <tr>\n",
       "      <th>7</th>\n",
       "      <td>strong</td>\n",
       "      <td>fare_bin_woe</td>\n",
       "      <td>0.415619</td>\n",
       "    </tr>\n",
       "    <tr>\n",
       "      <th>5</th>\n",
       "      <td>medium</td>\n",
       "      <td>family_bin_woe</td>\n",
       "      <td>0.239418</td>\n",
       "    </tr>\n",
       "    <tr>\n",
       "      <th>6</th>\n",
       "      <td>medium</td>\n",
       "      <td>age_bin_woe</td>\n",
       "      <td>0.140050</td>\n",
       "    </tr>\n",
       "    <tr>\n",
       "      <th>1</th>\n",
       "      <td>medium</td>\n",
       "      <td>embarked_woe</td>\n",
       "      <td>0.119923</td>\n",
       "    </tr>\n",
       "  </tbody>\n",
       "</table>\n",
       "</div>"
      ],
      "text/plain": [
       "  conclusion               feature  information-value\n",
       "8  excellent  gender_plass_mix_woe           2.322806\n",
       "4  excellent             title_woe           1.520728\n",
       "2  excellent               sex_woe           1.341681\n",
       "3  excellent            pclass_woe           0.500950\n",
       "0     strong    cabin_is_empty_woe           0.421963\n",
       "7     strong          fare_bin_woe           0.415619\n",
       "5     medium        family_bin_woe           0.239418\n",
       "6     medium           age_bin_woe           0.140050\n",
       "1     medium          embarked_woe           0.119923"
      ]
     },
     "execution_count": 40,
     "metadata": {},
     "output_type": "execute_result"
    }
   ],
   "source": [
    "pipeline.info(\n",
    "    keys=['information-value','conclusion'],\n",
    "    sort_by='information-value'\n",
    ")"
   ]
  },
  {
   "cell_type": "markdown",
   "metadata": {},
   "source": [
    "### 5.3. Single variable test by model"
   ]
  },
  {
   "cell_type": "code",
   "execution_count": 41,
   "metadata": {},
   "outputs": [
    {
     "data": {
      "text/html": [
       "<div>\n",
       "<style scoped>\n",
       "    .dataframe tbody tr th:only-of-type {\n",
       "        vertical-align: middle;\n",
       "    }\n",
       "\n",
       "    .dataframe tbody tr th {\n",
       "        vertical-align: top;\n",
       "    }\n",
       "\n",
       "    .dataframe thead th {\n",
       "        text-align: right;\n",
       "    }\n",
       "</style>\n",
       "<table border=\"1\" class=\"dataframe\">\n",
       "  <thead>\n",
       "    <tr style=\"text-align: right;\">\n",
       "      <th></th>\n",
       "      <th>feature</th>\n",
       "      <th>score</th>\n",
       "    </tr>\n",
       "  </thead>\n",
       "  <tbody>\n",
       "    <tr>\n",
       "      <th>4</th>\n",
       "      <td>title_woe</td>\n",
       "      <td>79.01</td>\n",
       "    </tr>\n",
       "    <tr>\n",
       "      <th>2</th>\n",
       "      <td>sex_woe</td>\n",
       "      <td>78.68</td>\n",
       "    </tr>\n",
       "    <tr>\n",
       "      <th>8</th>\n",
       "      <td>gender_plass_mix_woe</td>\n",
       "      <td>78.68</td>\n",
       "    </tr>\n",
       "    <tr>\n",
       "      <th>0</th>\n",
       "      <td>cabin_is_empty_woe</td>\n",
       "      <td>69.25</td>\n",
       "    </tr>\n",
       "    <tr>\n",
       "      <th>3</th>\n",
       "      <td>pclass_woe</td>\n",
       "      <td>67.90</td>\n",
       "    </tr>\n",
       "    <tr>\n",
       "      <th>7</th>\n",
       "      <td>fare_bin_woe</td>\n",
       "      <td>67.23</td>\n",
       "    </tr>\n",
       "    <tr>\n",
       "      <th>5</th>\n",
       "      <td>family_bin_woe</td>\n",
       "      <td>65.32</td>\n",
       "    </tr>\n",
       "    <tr>\n",
       "      <th>1</th>\n",
       "      <td>embarked_woe</td>\n",
       "      <td>63.64</td>\n",
       "    </tr>\n",
       "    <tr>\n",
       "      <th>6</th>\n",
       "      <td>age_bin_woe</td>\n",
       "      <td>63.64</td>\n",
       "    </tr>\n",
       "  </tbody>\n",
       "</table>\n",
       "</div>"
      ],
      "text/plain": [
       "                feature  score\n",
       "4             title_woe  79.01\n",
       "2               sex_woe  78.68\n",
       "8  gender_plass_mix_woe  78.68\n",
       "0    cabin_is_empty_woe  69.25\n",
       "3            pclass_woe  67.90\n",
       "7          fare_bin_woe  67.23\n",
       "5        family_bin_woe  65.32\n",
       "1          embarked_woe  63.64\n",
       "6           age_bin_woe  63.64"
      ]
     },
     "execution_count": 41,
     "metadata": {},
     "output_type": "execute_result"
    }
   ],
   "source": [
    "single_feature_test = pd.DataFrame()\n",
    "\n",
    "for col in x_train.columns:\n",
    "    i = x_train[col].values.reshape(-1, 1)\n",
    "    logreg = LogisticRegression()\n",
    "    logreg.fit(i, y_true)\n",
    "    single_feature_test = single_feature_test.append({'feature':col, 'score':round(logreg.score(i, y_true) * 100, 2)}, ignore_index=True)\n",
    "\n",
    "single_feature_test.sort_values('score', ascending=False)"
   ]
  },
  {
   "cell_type": "markdown",
   "metadata": {},
   "source": [
    "### 5.4 Filter"
   ]
  },
  {
   "cell_type": "markdown",
   "metadata": {},
   "source": [
    "Remove all steps with feature iv less 0.15"
   ]
  },
  {
   "cell_type": "code",
   "execution_count": 42,
   "metadata": {},
   "outputs": [
    {
     "name": "stdout",
     "output_type": "stream",
     "text": [
      "0.1199 embarked_woe\n",
      "0.14 age_bin_woe\n"
     ]
    }
   ],
   "source": [
    "for key in pipeline._items.copy():\n",
    "    i = pipeline._items[key].info.get('information-value')\n",
    "    if i < 0.15:\n",
    "        print(round(i,4), key)\n",
    "        del pipeline._items[key]"
   ]
  },
  {
   "cell_type": "code",
   "execution_count": 43,
   "metadata": {},
   "outputs": [],
   "source": [
    "x_train = pipeline.transform(X=dataset)"
   ]
  },
  {
   "cell_type": "markdown",
   "metadata": {},
   "source": [
    "## 5. Modeling"
   ]
  },
  {
   "cell_type": "code",
   "execution_count": 44,
   "metadata": {},
   "outputs": [
    {
     "data": {
      "text/plain": [
       "Series([], dtype: int64)"
      ]
     },
     "execution_count": 44,
     "metadata": {},
     "output_type": "execute_result"
    }
   ],
   "source": [
    "x_train.isnull().sum().sort_values(ascending=False).compress(lambda x: x>0)"
   ]
  },
  {
   "cell_type": "markdown",
   "metadata": {},
   "source": [
    "### 5.1. Base model (Logistic Regression)"
   ]
  },
  {
   "cell_type": "code",
   "execution_count": 45,
   "metadata": {},
   "outputs": [
    {
     "name": "stdout",
     "output_type": "stream",
     "text": [
      "accuracy with 0.5 threshold: 80.7\n"
     ]
    }
   ],
   "source": [
    "model = LogisticRegression()\n",
    "model.fit(x_train, y_true)\n",
    "y_pred_proba = pd.Series(model.predict_proba(x_train)[:,1], name = 'y_pred_proba')\n",
    "print('accuracy with 0.5 threshold: {}'.format(round(model.score(x_train, y_true) * 100, 2)))"
   ]
  },
  {
   "cell_type": "markdown",
   "metadata": {},
   "source": [
    "Choose custom threshold if distribution is skewed or if the task requires it"
   ]
  },
  {
   "cell_type": "code",
   "execution_count": 46,
   "metadata": {},
   "outputs": [
    {
     "data": {
      "image/png": "[encoded data removed]",
      "text/plain": [
       "<Figure size 1152x288 with 4 Axes>"
      ]
     },
     "metadata": {
      "needs_background": "light"
     },
     "output_type": "display_data"
    }
   ],
   "source": [
    "plot_model_summary(y_true, y_pred_proba, threshold=0.44,  class_labels = ['died','survived'])"
   ]
  },
  {
   "cell_type": "code",
   "execution_count": 47,
   "metadata": {},
   "outputs": [
    {
     "data": {
      "text/html": [
       "<div>\n",
       "<style scoped>\n",
       "    .dataframe tbody tr th:only-of-type {\n",
       "        vertical-align: middle;\n",
       "    }\n",
       "\n",
       "    .dataframe tbody tr th {\n",
       "        vertical-align: top;\n",
       "    }\n",
       "\n",
       "    .dataframe thead th {\n",
       "        text-align: right;\n",
       "    }\n",
       "</style>\n",
       "<table border=\"1\" class=\"dataframe\">\n",
       "  <thead>\n",
       "    <tr style=\"text-align: right;\">\n",
       "      <th></th>\n",
       "      <th>feature</th>\n",
       "      <th>coef</th>\n",
       "      <th>odds</th>\n",
       "    </tr>\n",
       "  </thead>\n",
       "  <tbody>\n",
       "    <tr>\n",
       "      <th>6</th>\n",
       "      <td>gender_plass_mix_woe</td>\n",
       "      <td>0.979439</td>\n",
       "      <td>2.662962</td>\n",
       "    </tr>\n",
       "    <tr>\n",
       "      <th>3</th>\n",
       "      <td>title_woe</td>\n",
       "      <td>0.933629</td>\n",
       "      <td>2.543725</td>\n",
       "    </tr>\n",
       "    <tr>\n",
       "      <th>0</th>\n",
       "      <td>cabin_is_empty_woe</td>\n",
       "      <td>0.542299</td>\n",
       "      <td>1.719956</td>\n",
       "    </tr>\n",
       "    <tr>\n",
       "      <th>4</th>\n",
       "      <td>family_bin_woe</td>\n",
       "      <td>0.287814</td>\n",
       "      <td>1.333509</td>\n",
       "    </tr>\n",
       "    <tr>\n",
       "      <th>2</th>\n",
       "      <td>pclass_woe</td>\n",
       "      <td>-0.068272</td>\n",
       "      <td>0.934007</td>\n",
       "    </tr>\n",
       "    <tr>\n",
       "      <th>5</th>\n",
       "      <td>fare_bin_woe</td>\n",
       "      <td>-0.430828</td>\n",
       "      <td>0.649971</td>\n",
       "    </tr>\n",
       "    <tr>\n",
       "      <th>1</th>\n",
       "      <td>sex_woe</td>\n",
       "      <td>-0.879450</td>\n",
       "      <td>0.415011</td>\n",
       "    </tr>\n",
       "  </tbody>\n",
       "</table>\n",
       "</div>"
      ],
      "text/plain": [
       "                feature      coef      odds\n",
       "6  gender_plass_mix_woe  0.979439  2.662962\n",
       "3             title_woe  0.933629  2.543725\n",
       "0    cabin_is_empty_woe  0.542299  1.719956\n",
       "4        family_bin_woe  0.287814  1.333509\n",
       "2            pclass_woe -0.068272  0.934007\n",
       "5          fare_bin_woe -0.430828  0.649971\n",
       "1               sex_woe -0.879450  0.415011"
      ]
     },
     "execution_count": 47,
     "metadata": {},
     "output_type": "execute_result"
    }
   ],
   "source": [
    "coeff_df = pd.DataFrame(x_train.columns)\n",
    "coeff_df.columns = ['feature']\n",
    "coeff_df[\"coef\"] = pd.Series(model.coef_[0])\n",
    "coeff_df[\"odds\"] = pd.Series(model.coef_[0]).apply(np.exp)\n",
    "coeff_df.sort_values(by='odds', ascending=False)"
   ]
  },
  {
   "cell_type": "markdown",
   "metadata": {},
   "source": [
    "### 5.2. Models benchmark"
   ]
  },
  {
   "cell_type": "code",
   "execution_count": 48,
   "metadata": {},
   "outputs": [],
   "source": [
    "import warnings\n",
    "with warnings.catch_warnings():\n",
    "    warnings.simplefilter('ignore')"
   ]
  },
  {
   "cell_type": "code",
   "execution_count": 49,
   "metadata": {},
   "outputs": [
    {
     "data": {
      "text/html": [
       "<div>\n",
       "<style scoped>\n",
       "    .dataframe tbody tr th:only-of-type {\n",
       "        vertical-align: middle;\n",
       "    }\n",
       "\n",
       "    .dataframe tbody tr th {\n",
       "        vertical-align: top;\n",
       "    }\n",
       "\n",
       "    .dataframe thead th {\n",
       "        text-align: right;\n",
       "    }\n",
       "</style>\n",
       "<table border=\"1\" class=\"dataframe\">\n",
       "  <thead>\n",
       "    <tr style=\"text-align: right;\">\n",
       "      <th></th>\n",
       "      <th>model</th>\n",
       "      <th>train-score</th>\n",
       "      <th>cross-score</th>\n",
       "      <th>auc</th>\n",
       "    </tr>\n",
       "  </thead>\n",
       "  <tbody>\n",
       "    <tr>\n",
       "      <th>4</th>\n",
       "      <td>KNeighborsClassifier</td>\n",
       "      <td>82.38</td>\n",
       "      <td>0.822 (+-0.027)</td>\n",
       "      <td>0.868 (+-0.020)</td>\n",
       "    </tr>\n",
       "    <tr>\n",
       "      <th>2</th>\n",
       "      <td>SVC</td>\n",
       "      <td>83.16</td>\n",
       "      <td>0.819 (+-0.011)</td>\n",
       "      <td>0.847 (+-0.019)</td>\n",
       "    </tr>\n",
       "    <tr>\n",
       "      <th>3</th>\n",
       "      <td>LinearSVC</td>\n",
       "      <td>81.37</td>\n",
       "      <td>0.813 (+-0.028)</td>\n",
       "      <td>0.860 (+-0.027)</td>\n",
       "    </tr>\n",
       "    <tr>\n",
       "      <th>0</th>\n",
       "      <td>LogisticRegression</td>\n",
       "      <td>80.70</td>\n",
       "      <td>0.806 (+-0.023)</td>\n",
       "      <td>0.860 (+-0.025)</td>\n",
       "    </tr>\n",
       "    <tr>\n",
       "      <th>1</th>\n",
       "      <td>RandomForestClassifier</td>\n",
       "      <td>84.85</td>\n",
       "      <td>0.805 (+-0.013)</td>\n",
       "      <td>0.856 (+-0.001)</td>\n",
       "    </tr>\n",
       "    <tr>\n",
       "      <th>10</th>\n",
       "      <td>LGBMClassifier</td>\n",
       "      <td>83.84</td>\n",
       "      <td>0.804 (+-0.018)</td>\n",
       "      <td>0.861 (+-0.010)</td>\n",
       "    </tr>\n",
       "    <tr>\n",
       "      <th>5</th>\n",
       "      <td>GradientBoostingClassifier</td>\n",
       "      <td>83.61</td>\n",
       "      <td>0.802 (+-0.011)</td>\n",
       "      <td>0.857 (+-0.010)</td>\n",
       "    </tr>\n",
       "    <tr>\n",
       "      <th>6</th>\n",
       "      <td>DecisionTreeClassifier</td>\n",
       "      <td>84.85</td>\n",
       "      <td>0.801 (+-0.011)</td>\n",
       "      <td>0.843 (+-0.013)</td>\n",
       "    </tr>\n",
       "    <tr>\n",
       "      <th>9</th>\n",
       "      <td>SGDClassifier</td>\n",
       "      <td>81.59</td>\n",
       "      <td>0.782 (+-0.032)</td>\n",
       "      <td>0.849 (+-0.036)</td>\n",
       "    </tr>\n",
       "    <tr>\n",
       "      <th>7</th>\n",
       "      <td>GaussianNB</td>\n",
       "      <td>77.55</td>\n",
       "      <td>0.782 (+-0.021)</td>\n",
       "      <td>0.850 (+-0.021)</td>\n",
       "    </tr>\n",
       "    <tr>\n",
       "      <th>8</th>\n",
       "      <td>Perceptron</td>\n",
       "      <td>77.10</td>\n",
       "      <td>0.770 (+-0.023)</td>\n",
       "      <td>0.803 (+-0.086)</td>\n",
       "    </tr>\n",
       "  </tbody>\n",
       "</table>\n",
       "</div>"
      ],
      "text/plain": [
       "                         model  train-score      cross-score              auc\n",
       "4         KNeighborsClassifier        82.38  0.822 (+-0.027)  0.868 (+-0.020)\n",
       "2                          SVC        83.16  0.819 (+-0.011)  0.847 (+-0.019)\n",
       "3                    LinearSVC        81.37  0.813 (+-0.028)  0.860 (+-0.027)\n",
       "0           LogisticRegression        80.70  0.806 (+-0.023)  0.860 (+-0.025)\n",
       "1       RandomForestClassifier        84.85  0.805 (+-0.013)  0.856 (+-0.001)\n",
       "10              LGBMClassifier        83.84  0.804 (+-0.018)  0.861 (+-0.010)\n",
       "5   GradientBoostingClassifier        83.61  0.802 (+-0.011)  0.857 (+-0.010)\n",
       "6       DecisionTreeClassifier        84.85  0.801 (+-0.011)  0.843 (+-0.013)\n",
       "9                SGDClassifier        81.59  0.782 (+-0.032)  0.849 (+-0.036)\n",
       "7                   GaussianNB        77.55  0.782 (+-0.021)  0.850 (+-0.021)\n",
       "8                   Perceptron        77.10  0.770 (+-0.023)  0.803 (+-0.086)"
      ]
     },
     "execution_count": 49,
     "metadata": {},
     "output_type": "execute_result"
    }
   ],
   "source": [
    "models = { \n",
    "        'logreg':LogisticRegression(),\n",
    "        'random-forest': RandomForestClassifier(n_estimators=100),\n",
    "        'svc': SVC(),\n",
    "        'svc-linear': LinearSVC(),\n",
    "        'knn': KNeighborsClassifier(n_neighbors = 6),\n",
    "        'gradient-boosting': GradientBoostingClassifier(),\n",
    "        'decission-tree': DecisionTreeClassifier(),\n",
    "        'naive-bayes': GaussianNB(),\n",
    "        'perceptron': Perceptron(max_iter=100),\n",
    "        'sgd':SGDClassifier(max_iter=100),\n",
    "        'lgmb': LGBMClassifier(),\n",
    "    }\n",
    "model_benchmark(x_train.astype('float64'),y_true,models).sort_values(by='cross-score', ascending=False).head(20)"
   ]
  },
  {
   "cell_type": "markdown",
   "metadata": {},
   "source": [
    "### 5.3 Select model"
   ]
  },
  {
   "cell_type": "code",
   "execution_count": 50,
   "metadata": {},
   "outputs": [
    {
     "data": {
      "image/png": "[encoded data removed]",
      "text/plain": [
       "<Figure size 1152x288 with 4 Axes>"
      ]
     },
     "metadata": {
      "needs_background": "light"
     },
     "output_type": "display_data"
    }
   ],
   "source": [
    "model = LogisticRegression()\n",
    "# model = SVC(probability=True)\n",
    "# model = LGBMClassifier()\n",
    "# model = GradientBoostingClassifier()\n",
    "\n",
    "model.fit(x_train, y_true)\n",
    "y_pred_proba = pd.Series(model.predict_proba(x_train)[:,1], name = 'y_pred_proba')\n",
    "plot_model_summary(y_true, y_pred_proba, threshold=0.44,  class_labels = ['died','survived'])"
   ]
  },
  {
   "cell_type": "markdown",
   "metadata": {},
   "source": [
    "## 6. Model submission"
   ]
  },
  {
   "cell_type": "code",
   "execution_count": 51,
   "metadata": {},
   "outputs": [],
   "source": [
    "test = pd.read_csv('./data/test.csv')\n",
    "x_test = pipeline.transform(X=test)"
   ]
  },
  {
   "cell_type": "code",
   "execution_count": 52,
   "metadata": {},
   "outputs": [],
   "source": [
    "test['Survived'] = predict_with_threshold(\n",
    "                        y_pred_proba=model.predict_proba(x_test)[:,1], \n",
    "                        threshold=0.44)\n",
    "result = test[['PassengerId','Survived']]"
   ]
  },
  {
   "cell_type": "code",
   "execution_count": 53,
   "metadata": {},
   "outputs": [],
   "source": [
    "result.to_csv('./data/submission-{}.csv'.format(model.__class__.__name__), index=False)"
   ]
  }
 ],
 "metadata": {
  "kernelspec": {
   "display_name": "Python 3",
   "language": "python",
   "name": "python3"
  },
  "language_info": {
   "codemirror_mode": {
    "name": "ipython",
    "version": 3
   },
   "file_extension": ".py",
   "mimetype": "text/x-python",
   "name": "python",
   "nbconvert_exporter": "python",
   "pygments_lexer": "ipython3",
   "version": "3.6.8"
  }
 },
 "nbformat": 4,
 "nbformat_minor": 4
}
